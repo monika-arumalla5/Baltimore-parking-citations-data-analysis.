{
  "nbformat": 4,
  "nbformat_minor": 0,
  "metadata": {
    "colab": {
      "name": "Project_2_Baltimore_Parking_Citation_Analysis_April_2019_Vs_2020.ipynb",
      "provenance": [],
      "collapsed_sections": [],
      "authorship_tag": "ABX9TyMlABffHrWs/KfC8uEyYKMs",
      "include_colab_link": true
    },
    "kernelspec": {
      "name": "python3",
      "display_name": "Python 3"
    }
  },
  "cells": [
    {
      "cell_type": "markdown",
      "metadata": {
        "id": "view-in-github",
        "colab_type": "text"
      },
      "source": [
        "<a href=\"https://colab.research.google.com/github/monika-arumalla5/Data-Charectarization_Project-2/blob/main/Project_2_Baltimore_Parking_Citation_Analysis_April_2019_Vs_2020.ipynb\" target=\"_parent\"><img src=\"https://colab.research.google.com/assets/colab-badge.svg\" alt=\"Open In Colab\"/></a>"
      ]
    },
    {
      "cell_type": "markdown",
      "metadata": {
        "id": "eZNphHu77cea"
      },
      "source": [
        "## Overview of the data:\n",
        "Data consists of the parking citations issued in the City of Baltimore over the last four years. This is a huge data set with a memory of 842.5 MB. However, I am considering only the month of April of the 2019 and 2020 years which reduces the size significantly (approximately to 30 MB).\n",
        "\n",
        "### Data consists of 26 columns:\n",
        "\n",
        "•\tCitation: \tCitation number issued by the police personnel\n",
        "\n",
        "•\tTag: \t\tVehicle registration plate/tag number\n",
        "\n",
        "•\tExpMM: \tVehicle registration expiration month\n",
        "\n",
        "•\tExpYY: \t\tVehicle registration expiration year\n",
        "\n",
        "•\tState: \t\tState of registration\n",
        "\n",
        "•\tMake:\t\tVehicle make\n",
        "\n",
        "•\tAddress: \tLocation where the citation is issued\n",
        "\n",
        "•\tViolCode:\tViolation Code\n",
        "\n",
        "•\tDescription:\tDescription of citation\n",
        "\n",
        "•\tViolFine:\tOriginal violation fine\n",
        "\n",
        "•\tViolDate:\tDate of violation\n",
        "\n",
        "•\tBalance:\tOutstanding balance including original fine and penalty fees\n",
        "\n",
        "•\tPenaltyDate:\tDate penalty fee is applied\n",
        "\n",
        "•\tOpenFine:\tUnpaid original fine\n",
        "\n",
        "•\tOpenPenalty: \tUnpaid penalty fees\n",
        "\n",
        "•\tNoticeDate:\tDate of notice for violation\n",
        "\n",
        "•\tInvestigationStatus:\tInvestigation status\n",
        "\n",
        "•\tTrialStatus:\t Trial Status\n",
        "\n",
        "•\tGeneralStatus: General status\n",
        "\n",
        "•\tGroupID: \tGroup ID\n",
        "\n",
        "•\tImportDate:\tDate record is imported\n",
        "\n",
        "•\tNeighborhood: \tNeighborhood where violation occurred\n",
        "\n",
        "•\tPoliceDistrict: \t\tPolice district where violation occurred\n",
        "\n",
        "•\tCouncilDistrict: \tCouncil district where the violation occurred\n",
        "\n",
        "•\tLocation:\tGeographic coordinates where the violation occurred\n",
        "\n",
        "•\tZip Codes:  \tZip code of the location where violation has occurred\n",
        "\n",
        "Record count of original data is 4705888. However, the data under the study has record count of 177040.\n",
        "\n",
        "Size of data under study: 30 MB.\n",
        "\n",
        "### Proposed objectives of the project:\n",
        "\n",
        "•\tClean and format the data as necessary.\n",
        "\n",
        "•\tPerform exploratory data analysis to understand the violations distribution across vehicles of different states and see if out of state vehicles have more violations than in state vehicles?\n",
        "\n",
        "•\tTo analyze the change in the violation count due to the implementation of lock down due to novel COVID-19 pandemic in 2020 in comparison to 2019.\n",
        "\n",
        "•\tTo see if how the violations are distributed across various vehicle makes.\n",
        "\n",
        "•\tTo see the frequency of types of violation occurred during the month of April in 2019 and 2020.\n",
        "\n",
        "•\tTo analyze the distribution of violation charges and look for any changes observed in 2020 in comparison to 2019.\n"
      ]
    },
    {
      "cell_type": "markdown",
      "metadata": {
        "id": "x40pMHhq8FJw"
      },
      "source": [
        "### Importing the necessary modules"
      ]
    },
    {
      "cell_type": "code",
      "metadata": {
        "id": "cA-4SIdy7si8"
      },
      "source": [
        "import pandas as pd\n",
        "import numpy as np\n",
        "import matplotlib.pyplot as plt\n",
        "import seaborn as sns"
      ],
      "execution_count": 1,
      "outputs": []
    },
    {
      "cell_type": "code",
      "metadata": {
        "id": "ijkDWuBp8HhJ",
        "colab": {
          "base_uri": "https://localhost:8080/"
        },
        "outputId": "8b5ac428-b997-404c-e359-ab3bbfe228b5"
      },
      "source": [
        "parking_citations = pd.read_csv(\"https://data.baltimorecity.gov/api/views/n4ma-fj3m/rows.csv\") #loading the data "
      ],
      "execution_count": 2,
      "outputs": [
        {
          "output_type": "stream",
          "text": [
            "/usr/local/lib/python3.6/dist-packages/IPython/core/interactiveshell.py:2718: DtypeWarning: Columns (2,18,19,20,21,22,24) have mixed types.Specify dtype option on import or set low_memory=False.\n",
            "  interactivity=interactivity, compiler=compiler, result=result)\n"
          ],
          "name": "stderr"
        }
      ]
    },
    {
      "cell_type": "code",
      "metadata": {
        "id": "k3XQDLI38OI3",
        "colab": {
          "base_uri": "https://localhost:8080/",
          "height": 462
        },
        "outputId": "8d6be523-15b4-4cef-e154-70dd13f34fec"
      },
      "source": [
        "parking_citations.head()"
      ],
      "execution_count": 3,
      "outputs": [
        {
          "output_type": "execute_result",
          "data": {
            "text/html": [
              "<div>\n",
              "<style scoped>\n",
              "    .dataframe tbody tr th:only-of-type {\n",
              "        vertical-align: middle;\n",
              "    }\n",
              "\n",
              "    .dataframe tbody tr th {\n",
              "        vertical-align: top;\n",
              "    }\n",
              "\n",
              "    .dataframe thead th {\n",
              "        text-align: right;\n",
              "    }\n",
              "</style>\n",
              "<table border=\"1\" class=\"dataframe\">\n",
              "  <thead>\n",
              "    <tr style=\"text-align: right;\">\n",
              "      <th></th>\n",
              "      <th>Citation</th>\n",
              "      <th>Tag</th>\n",
              "      <th>ExpMM</th>\n",
              "      <th>ExpYY</th>\n",
              "      <th>State</th>\n",
              "      <th>Make</th>\n",
              "      <th>Address</th>\n",
              "      <th>ViolCode</th>\n",
              "      <th>Description</th>\n",
              "      <th>ViolFine</th>\n",
              "      <th>ViolDate</th>\n",
              "      <th>Balance</th>\n",
              "      <th>PenaltyDate</th>\n",
              "      <th>OpenFine</th>\n",
              "      <th>OpenPenalty</th>\n",
              "      <th>NoticeDate</th>\n",
              "      <th>InvestigationStatus</th>\n",
              "      <th>TrialStatus</th>\n",
              "      <th>GeneralStatus</th>\n",
              "      <th>GroupID</th>\n",
              "      <th>ImportDate</th>\n",
              "      <th>Neighborhood</th>\n",
              "      <th>PoliceDistrict</th>\n",
              "      <th>CouncilDistrict</th>\n",
              "      <th>Location</th>\n",
              "      <th>2010 Census Neighborhoods</th>\n",
              "      <th>2010 Census Wards Precincts</th>\n",
              "      <th>Zip Codes</th>\n",
              "    </tr>\n",
              "  </thead>\n",
              "  <tbody>\n",
              "    <tr>\n",
              "      <th>0</th>\n",
              "      <td>72231020</td>\n",
              "      <td>456M831</td>\n",
              "      <td>02</td>\n",
              "      <td>7.0</td>\n",
              "      <td>MD</td>\n",
              "      <td>DODG</td>\n",
              "      <td>900 LANCASTER ST</td>\n",
              "      <td>18</td>\n",
              "      <td>All Other Parking Meter Violations</td>\n",
              "      <td>23.0</td>\n",
              "      <td>12/28/2006 12:19:00 PM</td>\n",
              "      <td>23.0</td>\n",
              "      <td>NaN</td>\n",
              "      <td>23.0</td>\n",
              "      <td>0.0</td>\n",
              "      <td>01/24/2007</td>\n",
              "      <td>NaN</td>\n",
              "      <td>NaN</td>\n",
              "      <td>NaN</td>\n",
              "      <td>NaN</td>\n",
              "      <td>01/31/2018 08:34:00 PM</td>\n",
              "      <td>NaN</td>\n",
              "      <td>NaN</td>\n",
              "      <td>NaN</td>\n",
              "      <td>900 LANCASTER ST\\nBaltimore, MD</td>\n",
              "      <td>NaN</td>\n",
              "      <td>NaN</td>\n",
              "      <td>NaN</td>\n",
              "    </tr>\n",
              "    <tr>\n",
              "      <th>1</th>\n",
              "      <td>72446289</td>\n",
              "      <td>FXY9549</td>\n",
              "      <td>01</td>\n",
              "      <td>7.0</td>\n",
              "      <td>PA</td>\n",
              "      <td>DODG</td>\n",
              "      <td>200 S BROADWAY</td>\n",
              "      <td>18</td>\n",
              "      <td>All Other Parking Meter Violations</td>\n",
              "      <td>23.0</td>\n",
              "      <td>01/30/2007 10:54:00 AM</td>\n",
              "      <td>23.0</td>\n",
              "      <td>NaN</td>\n",
              "      <td>23.0</td>\n",
              "      <td>0.0</td>\n",
              "      <td>07/02/2007</td>\n",
              "      <td>NaN</td>\n",
              "      <td>NaN</td>\n",
              "      <td>NaN</td>\n",
              "      <td>NaN</td>\n",
              "      <td>01/31/2018 08:34:00 PM</td>\n",
              "      <td>NaN</td>\n",
              "      <td>NaN</td>\n",
              "      <td>NaN</td>\n",
              "      <td>200 S BROADWAY\\nBaltimore, MD</td>\n",
              "      <td>NaN</td>\n",
              "      <td>NaN</td>\n",
              "      <td>NaN</td>\n",
              "    </tr>\n",
              "    <tr>\n",
              "      <th>2</th>\n",
              "      <td>72384951</td>\n",
              "      <td>6AGC10</td>\n",
              "      <td>04</td>\n",
              "      <td>7.0</td>\n",
              "      <td>MD</td>\n",
              "      <td>HOND</td>\n",
              "      <td>U/B S ARLINGTON ST</td>\n",
              "      <td>27</td>\n",
              "      <td>No Stop/Park Street Cleaning</td>\n",
              "      <td>42.0</td>\n",
              "      <td>01/19/2007 08:38:00 AM</td>\n",
              "      <td>42.0</td>\n",
              "      <td>NaN</td>\n",
              "      <td>42.0</td>\n",
              "      <td>0.0</td>\n",
              "      <td>02/14/2007</td>\n",
              "      <td>NaN</td>\n",
              "      <td>NaN</td>\n",
              "      <td>NaN</td>\n",
              "      <td>NaN</td>\n",
              "      <td>01/31/2018 08:34:00 PM</td>\n",
              "      <td>NaN</td>\n",
              "      <td>NaN</td>\n",
              "      <td>NaN</td>\n",
              "      <td>U B S ARLINGTON ST Baltimore, MD</td>\n",
              "      <td>NaN</td>\n",
              "      <td>NaN</td>\n",
              "      <td>NaN</td>\n",
              "    </tr>\n",
              "    <tr>\n",
              "      <th>3</th>\n",
              "      <td>78360013</td>\n",
              "      <td>6BTB72</td>\n",
              "      <td>08</td>\n",
              "      <td>12.0</td>\n",
              "      <td>MD</td>\n",
              "      <td>NaN</td>\n",
              "      <td>705 S LINWOOD</td>\n",
              "      <td>22</td>\n",
              "      <td>Expired Tags</td>\n",
              "      <td>32.0</td>\n",
              "      <td>11/10/2010 04:15:00 AM</td>\n",
              "      <td>32.0</td>\n",
              "      <td>NaN</td>\n",
              "      <td>32.0</td>\n",
              "      <td>0.0</td>\n",
              "      <td>03/03/2011</td>\n",
              "      <td>NaN</td>\n",
              "      <td>NaN</td>\n",
              "      <td>NaN</td>\n",
              "      <td>NaN</td>\n",
              "      <td>01/31/2018 08:34:00 PM</td>\n",
              "      <td>NaN</td>\n",
              "      <td>NaN</td>\n",
              "      <td>NaN</td>\n",
              "      <td>705 S LINWOOD\\nBaltimore, MD</td>\n",
              "      <td>NaN</td>\n",
              "      <td>NaN</td>\n",
              "      <td>NaN</td>\n",
              "    </tr>\n",
              "    <tr>\n",
              "      <th>4</th>\n",
              "      <td>90114662</td>\n",
              "      <td>6BM4401</td>\n",
              "      <td>05</td>\n",
              "      <td>16.0</td>\n",
              "      <td>MD</td>\n",
              "      <td>AUDI</td>\n",
              "      <td>700 ST PAUL ST</td>\n",
              "      <td>12</td>\n",
              "      <td>No Stopping/Standing Not Tow-Away Zone</td>\n",
              "      <td>32.0</td>\n",
              "      <td>09/26/2014 06:57:00 PM</td>\n",
              "      <td>0.0</td>\n",
              "      <td>NaN</td>\n",
              "      <td>32.0</td>\n",
              "      <td>297.0</td>\n",
              "      <td>10/15/2014</td>\n",
              "      <td>NaN</td>\n",
              "      <td>NaN</td>\n",
              "      <td>NaN</td>\n",
              "      <td>NaN</td>\n",
              "      <td>03/09/2016 04:02:00 AM</td>\n",
              "      <td>NaN</td>\n",
              "      <td>NaN</td>\n",
              "      <td>NaN</td>\n",
              "      <td>700 ST PAUL ST\\nBaltimore, MD</td>\n",
              "      <td>NaN</td>\n",
              "      <td>NaN</td>\n",
              "      <td>NaN</td>\n",
              "    </tr>\n",
              "  </tbody>\n",
              "</table>\n",
              "</div>"
            ],
            "text/plain": [
              "   Citation      Tag  ... 2010 Census Wards Precincts  Zip Codes\n",
              "0  72231020  456M831  ...                         NaN        NaN\n",
              "1  72446289  FXY9549  ...                         NaN        NaN\n",
              "2  72384951   6AGC10  ...                         NaN        NaN\n",
              "3  78360013   6BTB72  ...                         NaN        NaN\n",
              "4  90114662  6BM4401  ...                         NaN        NaN\n",
              "\n",
              "[5 rows x 28 columns]"
            ]
          },
          "metadata": {
            "tags": []
          },
          "execution_count": 3
        }
      ]
    },
    {
      "cell_type": "code",
      "metadata": {
        "id": "iF-O4fUb8UdW",
        "colab": {
          "base_uri": "https://localhost:8080/"
        },
        "outputId": "c6cb484e-2a72-4558-c54d-8140fd1dfe21"
      },
      "source": [
        "parking_citations.info()"
      ],
      "execution_count": 4,
      "outputs": [
        {
          "output_type": "stream",
          "text": [
            "<class 'pandas.core.frame.DataFrame'>\n",
            "RangeIndex: 4833789 entries, 0 to 4833788\n",
            "Data columns (total 28 columns):\n",
            " #   Column                       Dtype  \n",
            "---  ------                       -----  \n",
            " 0   Citation                     int64  \n",
            " 1   Tag                          object \n",
            " 2   ExpMM                        object \n",
            " 3   ExpYY                        float64\n",
            " 4   State                        object \n",
            " 5   Make                         object \n",
            " 6   Address                      object \n",
            " 7   ViolCode                     int64  \n",
            " 8   Description                  object \n",
            " 9   ViolFine                     float64\n",
            " 10  ViolDate                     object \n",
            " 11  Balance                      float64\n",
            " 12  PenaltyDate                  float64\n",
            " 13  OpenFine                     float64\n",
            " 14  OpenPenalty                  float64\n",
            " 15  NoticeDate                   object \n",
            " 16  InvestigationStatus          object \n",
            " 17  TrialStatus                  object \n",
            " 18  GeneralStatus                object \n",
            " 19  GroupID                      object \n",
            " 20  ImportDate                   object \n",
            " 21  Neighborhood                 object \n",
            " 22  PoliceDistrict               object \n",
            " 23  CouncilDistrict              float64\n",
            " 24  Location                     object \n",
            " 25  2010 Census Neighborhoods    float64\n",
            " 26  2010 Census Wards Precincts  float64\n",
            " 27  Zip Codes                    float64\n",
            "dtypes: float64(10), int64(2), object(16)\n",
            "memory usage: 1.0+ GB\n"
          ],
          "name": "stdout"
        }
      ]
    },
    {
      "cell_type": "code",
      "metadata": {
        "id": "GK5yUE9I23dM",
        "colab": {
          "base_uri": "https://localhost:8080/"
        },
        "outputId": "a7d4dbce-a8f4-4ee8-a245-df5ec13520f9"
      },
      "source": [
        "parking_citations[\"ViolDate\"]"
      ],
      "execution_count": 5,
      "outputs": [
        {
          "output_type": "execute_result",
          "data": {
            "text/plain": [
              "0          12/28/2006 12:19:00 PM\n",
              "1          01/30/2007 10:54:00 AM\n",
              "2          01/19/2007 08:38:00 AM\n",
              "3          11/10/2010 04:15:00 AM\n",
              "4          09/26/2014 06:57:00 PM\n",
              "                    ...          \n",
              "4833784    10/27/2017 06:22:00 PM\n",
              "4833785    10/27/2017 06:33:00 PM\n",
              "4833786    10/27/2017 06:40:00 PM\n",
              "4833787    10/27/2017 07:21:00 PM\n",
              "4833788    10/27/2017 07:26:00 PM\n",
              "Name: ViolDate, Length: 4833789, dtype: object"
            ]
          },
          "metadata": {
            "tags": []
          },
          "execution_count": 5
        }
      ]
    },
    {
      "cell_type": "code",
      "metadata": {
        "id": "ahFMr3Xq9SWo"
      },
      "source": [
        "#As the Violation date is of type object, converting it to date time type\n",
        "parking_citations[\"ViolDate\"] = pd.to_datetime(parking_citations[\"ViolDate\"], format = \"%m/%d/%Y %I:%M:%S %p\" ) "
      ],
      "execution_count": 6,
      "outputs": []
    },
    {
      "cell_type": "code",
      "metadata": {
        "id": "n6s9IcHa9WJM",
        "colab": {
          "base_uri": "https://localhost:8080/"
        },
        "outputId": "e093bd47-8a57-4423-e445-adabf05db357"
      },
      "source": [
        "#making sure that Violation Date type has been changed to datetime\n",
        "parking_citations[\"ViolDate\"].head(2)"
      ],
      "execution_count": 7,
      "outputs": [
        {
          "output_type": "execute_result",
          "data": {
            "text/plain": [
              "0   2006-12-28 12:19:00\n",
              "1   2007-01-30 10:54:00\n",
              "Name: ViolDate, dtype: datetime64[ns]"
            ]
          },
          "metadata": {
            "tags": []
          },
          "execution_count": 7
        }
      ]
    },
    {
      "cell_type": "markdown",
      "metadata": {
        "id": "8qJVGk-c9eUu"
      },
      "source": [
        "### Extracting the violations which happened during the month of April 2019 and 2020"
      ]
    },
    {
      "cell_type": "code",
      "metadata": {
        "id": "JM8aa7XK9Ydn"
      },
      "source": [
        " # Extracting the April month data for the years 2019 and 2020\n",
        "data = parking_citations[(parking_citations[\"ViolDate\"].dt.month == 4) & (parking_citations[\"ViolDate\"].dt.year.isin([2019,2020]))]"
      ],
      "execution_count": 8,
      "outputs": []
    },
    {
      "cell_type": "code",
      "metadata": {
        "id": "b7-nb5f39iow",
        "colab": {
          "base_uri": "https://localhost:8080/"
        },
        "outputId": "cb6805a6-88be-4214-ee61-963917f850f3"
      },
      "source": [
        "#Looking at the number of violations that occured during April 2019 and April 2020\n",
        "data[\"ViolDate\"].dt.year.value_counts() "
      ],
      "execution_count": 9,
      "outputs": [
        {
          "output_type": "execute_result",
          "data": {
            "text/plain": [
              "2019    96532\n",
              "2020    80517\n",
              "Name: ViolDate, dtype: int64"
            ]
          },
          "metadata": {
            "tags": []
          },
          "execution_count": 9
        }
      ]
    },
    {
      "cell_type": "code",
      "metadata": {
        "id": "Eyx5gfB29kk7",
        "colab": {
          "base_uri": "https://localhost:8080/",
          "height": 445
        },
        "outputId": "67044a1f-e612-43c1-e0de-592a0f3783c3"
      },
      "source": [
        "data.head()"
      ],
      "execution_count": 10,
      "outputs": [
        {
          "output_type": "execute_result",
          "data": {
            "text/html": [
              "<div>\n",
              "<style scoped>\n",
              "    .dataframe tbody tr th:only-of-type {\n",
              "        vertical-align: middle;\n",
              "    }\n",
              "\n",
              "    .dataframe tbody tr th {\n",
              "        vertical-align: top;\n",
              "    }\n",
              "\n",
              "    .dataframe thead th {\n",
              "        text-align: right;\n",
              "    }\n",
              "</style>\n",
              "<table border=\"1\" class=\"dataframe\">\n",
              "  <thead>\n",
              "    <tr style=\"text-align: right;\">\n",
              "      <th></th>\n",
              "      <th>Citation</th>\n",
              "      <th>Tag</th>\n",
              "      <th>ExpMM</th>\n",
              "      <th>ExpYY</th>\n",
              "      <th>State</th>\n",
              "      <th>Make</th>\n",
              "      <th>Address</th>\n",
              "      <th>ViolCode</th>\n",
              "      <th>Description</th>\n",
              "      <th>ViolFine</th>\n",
              "      <th>ViolDate</th>\n",
              "      <th>Balance</th>\n",
              "      <th>PenaltyDate</th>\n",
              "      <th>OpenFine</th>\n",
              "      <th>OpenPenalty</th>\n",
              "      <th>NoticeDate</th>\n",
              "      <th>InvestigationStatus</th>\n",
              "      <th>TrialStatus</th>\n",
              "      <th>GeneralStatus</th>\n",
              "      <th>GroupID</th>\n",
              "      <th>ImportDate</th>\n",
              "      <th>Neighborhood</th>\n",
              "      <th>PoliceDistrict</th>\n",
              "      <th>CouncilDistrict</th>\n",
              "      <th>Location</th>\n",
              "      <th>2010 Census Neighborhoods</th>\n",
              "      <th>2010 Census Wards Precincts</th>\n",
              "      <th>Zip Codes</th>\n",
              "    </tr>\n",
              "  </thead>\n",
              "  <tbody>\n",
              "    <tr>\n",
              "      <th>425</th>\n",
              "      <td>32465602</td>\n",
              "      <td>8BH7595</td>\n",
              "      <td>04</td>\n",
              "      <td>21.0</td>\n",
              "      <td>MD</td>\n",
              "      <td>TOYT</td>\n",
              "      <td>1600 BLK E BELVEDERE AVE EB</td>\n",
              "      <td>32</td>\n",
              "      <td>Fixed Speed Camera</td>\n",
              "      <td>40.0</td>\n",
              "      <td>2020-04-16 16:39:00</td>\n",
              "      <td>0.0</td>\n",
              "      <td>NaN</td>\n",
              "      <td>0.0</td>\n",
              "      <td>0.0</td>\n",
              "      <td>05/20/2020</td>\n",
              "      <td>NaN</td>\n",
              "      <td>NaN</td>\n",
              "      <td>NaN</td>\n",
              "      <td>NaN</td>\n",
              "      <td>NaN</td>\n",
              "      <td>NaN</td>\n",
              "      <td>NaN</td>\n",
              "      <td>NaN</td>\n",
              "      <td>NaN</td>\n",
              "      <td>NaN</td>\n",
              "      <td>NaN</td>\n",
              "      <td>NaN</td>\n",
              "    </tr>\n",
              "    <tr>\n",
              "      <th>426</th>\n",
              "      <td>32663784</td>\n",
              "      <td>1DM8806</td>\n",
              "      <td>10</td>\n",
              "      <td>20.0</td>\n",
              "      <td>MD</td>\n",
              "      <td>NISS</td>\n",
              "      <td>600 BLK W NORTHERN PKWY WB</td>\n",
              "      <td>32</td>\n",
              "      <td>Fixed Speed Camera</td>\n",
              "      <td>40.0</td>\n",
              "      <td>2020-04-27 11:48:00</td>\n",
              "      <td>0.0</td>\n",
              "      <td>NaN</td>\n",
              "      <td>0.0</td>\n",
              "      <td>0.0</td>\n",
              "      <td>06/03/2020</td>\n",
              "      <td>NaN</td>\n",
              "      <td>NaN</td>\n",
              "      <td>NaN</td>\n",
              "      <td>NaN</td>\n",
              "      <td>NaN</td>\n",
              "      <td>NaN</td>\n",
              "      <td>NaN</td>\n",
              "      <td>NaN</td>\n",
              "      <td>NaN</td>\n",
              "      <td>NaN</td>\n",
              "      <td>NaN</td>\n",
              "      <td>NaN</td>\n",
              "    </tr>\n",
              "    <tr>\n",
              "      <th>427</th>\n",
              "      <td>32740558</td>\n",
              "      <td>1DM8806</td>\n",
              "      <td>10</td>\n",
              "      <td>20.0</td>\n",
              "      <td>MD</td>\n",
              "      <td>NISS</td>\n",
              "      <td>600 BLK W NORTHERN PKWY WB</td>\n",
              "      <td>32</td>\n",
              "      <td>Fixed Speed Camera</td>\n",
              "      <td>40.0</td>\n",
              "      <td>2020-04-29 18:44:00</td>\n",
              "      <td>0.0</td>\n",
              "      <td>NaN</td>\n",
              "      <td>0.0</td>\n",
              "      <td>0.0</td>\n",
              "      <td>06/03/2020</td>\n",
              "      <td>NaN</td>\n",
              "      <td>NaN</td>\n",
              "      <td>NaN</td>\n",
              "      <td>NaN</td>\n",
              "      <td>NaN</td>\n",
              "      <td>NaN</td>\n",
              "      <td>NaN</td>\n",
              "      <td>NaN</td>\n",
              "      <td>NaN</td>\n",
              "      <td>NaN</td>\n",
              "      <td>NaN</td>\n",
              "      <td>NaN</td>\n",
              "    </tr>\n",
              "    <tr>\n",
              "      <th>859</th>\n",
              "      <td>5115119</td>\n",
              "      <td>5AM0281</td>\n",
              "      <td>01</td>\n",
              "      <td>20.0</td>\n",
              "      <td>MD</td>\n",
              "      <td>VOLK</td>\n",
              "      <td>O/S 500 BLK W 28TH ST</td>\n",
              "      <td>22</td>\n",
              "      <td>Expired Tags</td>\n",
              "      <td>32.0</td>\n",
              "      <td>2020-04-25 17:19:00</td>\n",
              "      <td>0.0</td>\n",
              "      <td>NaN</td>\n",
              "      <td>0.0</td>\n",
              "      <td>0.0</td>\n",
              "      <td>06/24/2020</td>\n",
              "      <td>NaN</td>\n",
              "      <td>NaN</td>\n",
              "      <td>NaN</td>\n",
              "      <td>NaN</td>\n",
              "      <td>NaN</td>\n",
              "      <td>NaN</td>\n",
              "      <td>NaN</td>\n",
              "      <td>NaN</td>\n",
              "      <td>NaN</td>\n",
              "      <td>NaN</td>\n",
              "      <td>NaN</td>\n",
              "      <td>NaN</td>\n",
              "    </tr>\n",
              "    <tr>\n",
              "      <th>1081</th>\n",
              "      <td>5325841</td>\n",
              "      <td>9BH1353</td>\n",
              "      <td>03</td>\n",
              "      <td>20.0</td>\n",
              "      <td>MD</td>\n",
              "      <td>NISS</td>\n",
              "      <td>S/ 3329 LYNDALE</td>\n",
              "      <td>22</td>\n",
              "      <td>Expired Tags</td>\n",
              "      <td>32.0</td>\n",
              "      <td>2020-04-16 10:08:00</td>\n",
              "      <td>0.0</td>\n",
              "      <td>NaN</td>\n",
              "      <td>0.0</td>\n",
              "      <td>0.0</td>\n",
              "      <td>05/20/2020</td>\n",
              "      <td>NaN</td>\n",
              "      <td>NaN</td>\n",
              "      <td>NaN</td>\n",
              "      <td>NaN</td>\n",
              "      <td>NaN</td>\n",
              "      <td>NaN</td>\n",
              "      <td>NaN</td>\n",
              "      <td>NaN</td>\n",
              "      <td>NaN</td>\n",
              "      <td>NaN</td>\n",
              "      <td>NaN</td>\n",
              "      <td>NaN</td>\n",
              "    </tr>\n",
              "  </tbody>\n",
              "</table>\n",
              "</div>"
            ],
            "text/plain": [
              "      Citation      Tag  ... 2010 Census Wards Precincts  Zip Codes\n",
              "425   32465602  8BH7595  ...                         NaN        NaN\n",
              "426   32663784  1DM8806  ...                         NaN        NaN\n",
              "427   32740558  1DM8806  ...                         NaN        NaN\n",
              "859    5115119  5AM0281  ...                         NaN        NaN\n",
              "1081   5325841  9BH1353  ...                         NaN        NaN\n",
              "\n",
              "[5 rows x 28 columns]"
            ]
          },
          "metadata": {
            "tags": []
          },
          "execution_count": 10
        }
      ]
    },
    {
      "cell_type": "markdown",
      "metadata": {
        "id": "mfUQrwbO9o7g"
      },
      "source": [
        "### Cleaning the data"
      ]
    },
    {
      "cell_type": "code",
      "metadata": {
        "id": "6Je2snf69mYF",
        "colab": {
          "base_uri": "https://localhost:8080/"
        },
        "outputId": "4ddefb88-fc04-402b-a364-e00514bcfc48"
      },
      "source": [
        "print(\"Percentage of missing records in each column:\")\n",
        "print((data.isnull().sum()/data.isnull().count())*100)"
      ],
      "execution_count": 11,
      "outputs": [
        {
          "output_type": "stream",
          "text": [
            "Percentage of missing records in each column:\n",
            "Citation                         0.000000\n",
            "Tag                              0.000565\n",
            "ExpMM                            0.854001\n",
            "ExpYY                            0.000565\n",
            "State                            0.000000\n",
            "Make                             0.014685\n",
            "Address                          0.000000\n",
            "ViolCode                         0.000000\n",
            "Description                      0.000000\n",
            "ViolFine                         0.000000\n",
            "ViolDate                         0.000000\n",
            "Balance                          0.000000\n",
            "PenaltyDate                    100.000000\n",
            "OpenFine                         0.000000\n",
            "OpenPenalty                      0.000000\n",
            "NoticeDate                      46.694983\n",
            "InvestigationStatus             99.826037\n",
            "TrialStatus                     97.823201\n",
            "GeneralStatus                   78.096459\n",
            "GroupID                         78.096459\n",
            "ImportDate                      45.480630\n",
            "Neighborhood                    96.346209\n",
            "PoliceDistrict                  96.346209\n",
            "CouncilDistrict                 96.346209\n",
            "Location                        96.346209\n",
            "2010 Census Neighborhoods       96.346209\n",
            "2010 Census Wards Precincts     96.346774\n",
            "Zip Codes                       96.346209\n",
            "dtype: float64\n"
          ],
          "name": "stdout"
        }
      ]
    },
    {
      "cell_type": "code",
      "metadata": {
        "id": "MdlgXtCE9rAM"
      },
      "source": [
        "#Based on the above %, dropping all the columns having missing values above 90%\n",
        "\n",
        "data = data.drop(['Neighborhood', 'PoliceDistrict', 'CouncilDistrict',\n",
        "       'Location', '2010 Census Neighborhoods', '2010 Census Wards Precincts',\n",
        "       'Zip Codes','InvestigationStatus', 'TrialStatus','PenaltyDate'],axis=1)"
      ],
      "execution_count": 12,
      "outputs": []
    },
    {
      "cell_type": "code",
      "metadata": {
        "id": "9_ighz5C9s-_",
        "colab": {
          "base_uri": "https://localhost:8080/"
        },
        "outputId": "3eda9ec4-41b4-492a-b216-75edf7c69215"
      },
      "source": [
        "data.info()"
      ],
      "execution_count": 13,
      "outputs": [
        {
          "output_type": "stream",
          "text": [
            "<class 'pandas.core.frame.DataFrame'>\n",
            "Int64Index: 177049 entries, 425 to 4826202\n",
            "Data columns (total 18 columns):\n",
            " #   Column         Non-Null Count   Dtype         \n",
            "---  ------         --------------   -----         \n",
            " 0   Citation       177049 non-null  int64         \n",
            " 1   Tag            177048 non-null  object        \n",
            " 2   ExpMM          175537 non-null  object        \n",
            " 3   ExpYY          177048 non-null  float64       \n",
            " 4   State          177049 non-null  object        \n",
            " 5   Make           177023 non-null  object        \n",
            " 6   Address        177049 non-null  object        \n",
            " 7   ViolCode       177049 non-null  int64         \n",
            " 8   Description    177049 non-null  object        \n",
            " 9   ViolFine       177049 non-null  float64       \n",
            " 10  ViolDate       177049 non-null  datetime64[ns]\n",
            " 11  Balance        177049 non-null  float64       \n",
            " 12  OpenFine       177049 non-null  float64       \n",
            " 13  OpenPenalty    177049 non-null  float64       \n",
            " 14  NoticeDate     94376 non-null   object        \n",
            " 15  GeneralStatus  38780 non-null   object        \n",
            " 16  GroupID        38780 non-null   object        \n",
            " 17  ImportDate     96526 non-null   object        \n",
            "dtypes: datetime64[ns](1), float64(5), int64(2), object(10)\n",
            "memory usage: 25.7+ MB\n"
          ],
          "name": "stdout"
        }
      ]
    },
    {
      "cell_type": "markdown",
      "metadata": {
        "id": "uPfTjb_T9xXF"
      },
      "source": [
        "## Exploratory data analysis of the features"
      ]
    },
    {
      "cell_type": "markdown",
      "metadata": {
        "id": "biIz-Y4Rw352"
      },
      "source": [
        "#### Analysing the vehicle's with maximum violations"
      ]
    },
    {
      "cell_type": "code",
      "metadata": {
        "id": "jlwOIPkH9vAS"
      },
      "source": [
        "tag_counts = data[\"Tag\"].value_counts()"
      ],
      "execution_count": 14,
      "outputs": []
    },
    {
      "cell_type": "code",
      "metadata": {
        "id": "Is4-jvDg9zHe",
        "colab": {
          "base_uri": "https://localhost:8080/"
        },
        "outputId": "732b242e-8b3a-4410-8feb-20626fe1314c"
      },
      "source": [
        "tag_counts.describe()"
      ],
      "execution_count": 15,
      "outputs": [
        {
          "output_type": "execute_result",
          "data": {
            "text/plain": [
              "count    128921.000000\n",
              "mean          1.373306\n",
              "std           0.937832\n",
              "min           1.000000\n",
              "25%           1.000000\n",
              "50%           1.000000\n",
              "75%           1.000000\n",
              "max          31.000000\n",
              "Name: Tag, dtype: float64"
            ]
          },
          "metadata": {
            "tags": []
          },
          "execution_count": 15
        }
      ]
    },
    {
      "cell_type": "code",
      "metadata": {
        "id": "yOq_0NJV92I7",
        "colab": {
          "base_uri": "https://localhost:8080/",
          "height": 333
        },
        "outputId": "9ddda030-c940-4b17-a70b-7558fc7b05b2"
      },
      "source": [
        "plt.figure(figsize=(18,5))\n",
        "tag_counts.plot()\n",
        "plt.title(\"Count of violations reported per vehicle in April 2019 and 2020\")\n",
        "plt.xticks(ticks=[],values=[])\n",
        "plt.ylabel(\"Violation tickets received per vehicle\")\n",
        "plt.xlabel(\"Individual Vehicle\")\n",
        "plt.show()"
      ],
      "execution_count": 16,
      "outputs": [
        {
          "output_type": "display_data",
          "data": {
            "image/png": "[encoded data removed]",
            "text/plain": [
              "<Figure size 1296x360 with 1 Axes>"
            ]
          },
          "metadata": {
            "tags": [],
            "needs_background": "light"
          }
        }
      ]
    },
    {
      "cell_type": "markdown",
      "metadata": {
        "id": "O9eoHjCKxA5O"
      },
      "source": [
        "#### Comparing the April 2019 violations distribution per vehicle with that of April 2020"
      ]
    },
    {
      "cell_type": "code",
      "metadata": {
        "id": "QjO-o1wM94uq",
        "colab": {
          "base_uri": "https://localhost:8080/",
          "height": 333
        },
        "outputId": "a88b6418-f30e-469f-af90-a97a61989238"
      },
      "source": [
        "plt.figure(figsize=(18,5))\n",
        "data[data[\"ViolDate\"].dt.year==2019][\"Tag\"].value_counts().plot(label=\"2019\")\n",
        "data[data[\"ViolDate\"].dt.year==2020][\"Tag\"].value_counts().plot(label=\"2020\",ls=\"-.\",color=\"red\",kind=\"area\",alpha=0.3)\n",
        "plt.title(\"Count of violations reported per vehicle in April 2019 and 2020\")\n",
        "plt.xticks(ticks=[],values=[])\n",
        "plt.ylabel(\"Violation tickets received per vehicle\")\n",
        "plt.xlabel(\"Individual Vehicle\")\n",
        "plt.legend()\n",
        "plt.show()"
      ],
      "execution_count": 17,
      "outputs": [
        {
          "output_type": "display_data",
          "data": {
            "image/png": "[encoded data removed]",
            "text/plain": [
              "<Figure size 1296x360 with 1 Axes>"
            ]
          },
          "metadata": {
            "tags": [],
            "needs_background": "light"
          }
        }
      ]
    },
    {
      "cell_type": "markdown",
      "metadata": {
        "id": "nK_WcEfp99iD"
      },
      "source": [
        "Noticed that the highest violations received by a individual vehicle is 31 in April 2020, where as 26 in April 2019.\n",
        "\n",
        "However, most common count of violations committed by a vehicle is 1."
      ]
    },
    {
      "cell_type": "code",
      "metadata": {
        "id": "yhOGhrZ197Ct",
        "colab": {
          "base_uri": "https://localhost:8080/"
        },
        "outputId": "915e398d-6e4a-4ff6-c87d-2241a575edc8"
      },
      "source": [
        "print(\"Count of violations performed by each vehicle in descending order: \\n\",data[\"Tag\"].value_counts())"
      ],
      "execution_count": 18,
      "outputs": [
        {
          "output_type": "stream",
          "text": [
            "Count of violations performed by each vehicle in descending order: \n",
            " 2EC7233     31\n",
            "2CC1324     29\n",
            "7DJ2882     26\n",
            "NO TAGST    25\n",
            "8DW4455     25\n",
            "            ..\n",
            "9DF4333      1\n",
            "1EC1610      1\n",
            "KNN4594      1\n",
            "9DH2700      1\n",
            "5BN4515      1\n",
            "Name: Tag, Length: 128921, dtype: int64\n"
          ],
          "name": "stdout"
        }
      ]
    },
    {
      "cell_type": "code",
      "metadata": {
        "id": "F55iGBtH685B",
        "colab": {
          "base_uri": "https://localhost:8080/"
        },
        "outputId": "219a7c7f-7671-4185-a418-d274e3d75e8d"
      },
      "source": [
        "#The types of violations commited by the most violations count vehicle\n",
        "data[data[\"Tag\"] ==\"2EC7233\" ].groupby(\"Description\")[\"Description\"].count() "
      ],
      "execution_count": 19,
      "outputs": [
        {
          "output_type": "execute_result",
          "data": {
            "text/plain": [
              "Description\n",
              "Fixed Speed Camera     24\n",
              "Red Light Violation     3\n",
              "Right on Red            4\n",
              "Name: Description, dtype: int64"
            ]
          },
          "metadata": {
            "tags": []
          },
          "execution_count": 19
        }
      ]
    },
    {
      "cell_type": "code",
      "metadata": {
        "id": "Q3rOCnns7qWJ",
        "colab": {
          "base_uri": "https://localhost:8080/"
        },
        "outputId": "b18843a8-5273-491d-9736-f532447e6f0a"
      },
      "source": [
        "#The types of violations commited by the most violations count vehicle\n",
        "data[data[\"Tag\"] ==\"2CC1324\" ].groupby(\"Description\")[\"Description\"].count() "
      ],
      "execution_count": 20,
      "outputs": [
        {
          "output_type": "execute_result",
          "data": {
            "text/plain": [
              "Description\n",
              "Fixed Speed Camera     27\n",
              "Red Light Violation     1\n",
              "Right on Red            1\n",
              "Name: Description, dtype: int64"
            ]
          },
          "metadata": {
            "tags": []
          },
          "execution_count": 20
        }
      ]
    },
    {
      "cell_type": "markdown",
      "metadata": {
        "id": "cAQlBsSK7oiS"
      },
      "source": [
        "Noticed that the vehicles which reported maximum violations had performed violations of the types - Fixed Speed Camera, Red Light Violation and Right on Red"
      ]
    },
    {
      "cell_type": "markdown",
      "metadata": {
        "id": "QM2QqzHfxPtk"
      },
      "source": [
        "#### Analyzing the violations reported per state (vehicle registration state)"
      ]
    },
    {
      "cell_type": "code",
      "metadata": {
        "id": "VAlxX1W89_g4",
        "colab": {
          "base_uri": "https://localhost:8080/"
        },
        "outputId": "c6cf27f5-bd6a-4dce-cecc-d4e7da0508c4"
      },
      "source": [
        "print(\"Count of violations happened per state in the month of April 2019 and 2020: \\n\")\n",
        "print(data[\"State\"].value_counts().head(20))"
      ],
      "execution_count": 21,
      "outputs": [
        {
          "output_type": "stream",
          "text": [
            "Count of violations happened per state in the month of April 2019 and 2020: \n",
            "\n",
            "MD    159119\n",
            "VA      6102\n",
            "PA      3174\n",
            "NJ      1177\n",
            "NY       899\n",
            "NC       772\n",
            "FL       719\n",
            "DC       555\n",
            "DE       553\n",
            "GA       449\n",
            "TX       363\n",
            "TN       334\n",
            "OH       273\n",
            "WV       270\n",
            "SC       252\n",
            "MA       239\n",
            "CT       233\n",
            "CA       225\n",
            "IL       134\n",
            "MI       123\n",
            "Name: State, dtype: int64\n"
          ],
          "name": "stdout"
        }
      ]
    },
    {
      "cell_type": "code",
      "metadata": {
        "id": "14swIWx5-A-i",
        "colab": {
          "base_uri": "https://localhost:8080/",
          "height": 404
        },
        "outputId": "00b6e305-ba18-4b3b-e58c-49892b0d1e82"
      },
      "source": [
        "plt.figure(figsize=(18,6))\n",
        "sns.barplot(y=data[\"State\"].value_counts().head(20).values, x=data[\"State\"].value_counts().head(20).index)\n",
        "plt.title(\"Violations count distribution of the top 20 states\")\n",
        "plt.xlabel(\"State name\")\n",
        "plt.ylabel(\"Count of Violations\")\n",
        "plt.show()"
      ],
      "execution_count": 22,
      "outputs": [
        {
          "output_type": "display_data",
          "data": {
            "image/png": "[encoded data removed]",
            "text/plain": [
              "<Figure size 1296x432 with 1 Axes>"
            ]
          },
          "metadata": {
            "tags": [],
            "needs_background": "light"
          }
        }
      ]
    },
    {
      "cell_type": "code",
      "metadata": {
        "id": "k9OmJ7Nm-CqX",
        "colab": {
          "base_uri": "https://localhost:8080/"
        },
        "outputId": "fc75d191-1a1f-4b3a-c440-4d417b82e034"
      },
      "source": [
        "print(\"Percentage of vehicle's state registrations:\")\n",
        "print(((data[\"State\"].value_counts()/len(data[\"State\"]))*100).head(20))"
      ],
      "execution_count": 23,
      "outputs": [
        {
          "output_type": "stream",
          "text": [
            "Percentage of vehicle's state registrations:\n",
            "MD    89.872860\n",
            "VA     3.446504\n",
            "PA     1.792724\n",
            "NJ     0.664788\n",
            "NY     0.507769\n",
            "NC     0.436037\n",
            "FL     0.406102\n",
            "DC     0.313473\n",
            "DE     0.312343\n",
            "GA     0.253602\n",
            "TX     0.205028\n",
            "TN     0.188648\n",
            "OH     0.154195\n",
            "WV     0.152500\n",
            "SC     0.142333\n",
            "MA     0.134991\n",
            "CT     0.131602\n",
            "CA     0.127083\n",
            "IL     0.075685\n",
            "MI     0.069472\n",
            "Name: State, dtype: float64\n"
          ],
          "name": "stdout"
        }
      ]
    },
    {
      "cell_type": "markdown",
      "metadata": {
        "id": "-kR7veHs-G_f"
      },
      "source": [
        "From the above percentage statistics, infered that 90% of the parking violations occurred in Baltimore are for vehicles registered with Maryland. \n",
        "\n",
        "Followed by Virginia with 3% then by Pensylvania with 1.7%\n",
        "\n",
        "Hence, one can conclude that In state vehciles committed relatively more parking violations then out of state vehicles"
      ]
    },
    {
      "cell_type": "markdown",
      "metadata": {
        "id": "wNJbRbpoxlJf"
      },
      "source": [
        "#### Validating if there are any expired registration vehicles"
      ]
    },
    {
      "cell_type": "code",
      "metadata": {
        "id": "oamUunR3-E_p",
        "colab": {
          "base_uri": "https://localhost:8080/"
        },
        "outputId": "0763b451-7701-48d5-920e-6793feb08967"
      },
      "source": [
        "#Analysing the count of expired registration vehicles count:\n",
        "data[(data[\"ViolDate\"].dt.year==2019)&(data[\"ExpYY\"]<19)][\"ExpYY\"].count() + data[(data[\"ViolDate\"].dt.year==2020)&(data[\"ExpYY\"]<20)][\"ExpYY\"].count()"
      ],
      "execution_count": 24,
      "outputs": [
        {
          "output_type": "execute_result",
          "data": {
            "text/plain": [
              "16651"
            ]
          },
          "metadata": {
            "tags": []
          },
          "execution_count": 24
        }
      ]
    },
    {
      "cell_type": "markdown",
      "metadata": {
        "id": "DsP1KES2-MC2"
      },
      "source": [
        "From the data, noticed that there are 16,667 vehicles which have expired registration year."
      ]
    },
    {
      "cell_type": "markdown",
      "metadata": {
        "id": "0uL2JXMCxuv8"
      },
      "source": [
        "#### Exploring the vehicle make"
      ]
    },
    {
      "cell_type": "code",
      "metadata": {
        "id": "pvgxUBKG-OCr",
        "colab": {
          "base_uri": "https://localhost:8080/"
        },
        "outputId": "1ab71b16-935f-404b-a927-483361c44b52"
      },
      "source": [
        "data[\"Make\"].value_counts().head(100).index"
      ],
      "execution_count": 25,
      "outputs": [
        {
          "output_type": "execute_result",
          "data": {
            "text/plain": [
              "Index(['HOND', 'FORD', 'TOYT', 'NISS', 'CHEV', 'HYUN', 'JEEP', 'ACUR', 'DODG',\n",
              "       'HONDA', 'TOYOT', 'KIA', 'BMW', 'NISSA', 'LEXS', 'CHEVR', 'MERZ',\n",
              "       'VOLK', 'CHRY', 'INFI', 'MAZD', 'GMC', 'SUBA', 'HYUND', 'BUIC', 'AUDI',\n",
              "       'CADI', 'DODGE', 'ACURA', 'VOLV', 'VOLKS', 'LINC', 'MITS', 'RAM',\n",
              "       'MERCE', 'MAZDA', 'LEXUS', 'SUBAR', 'MERC', 'CHRYS', 'LEXU', 'INFIN',\n",
              "       'PONT', 'VOLVO', 'CADIL', 'BUICK', 'STRN', 'LNDR', 'MITSU', 'TRAIL',\n",
              "       'LINCO', 'MERCU', 'JAGU', 'TOYO', 'SATU', 'SATUR', 'SCION', 'FIAT',\n",
              "       'MNNI', 'MINI', 'PONTI', 'PORS', 'SCIO', 'MINI-', 'TOY', 'LAND', 'HON',\n",
              "       'OLDS', 'TESL', 'FOR', 'NIS', 'LEX', 'JAGUA', 'SUZI', 'ROV', 'SUZUK',\n",
              "       'FREIG', 'SAAB', 'SAA', 'RANGE', 'ISU', 'HUMM', 'SUZU', 'CHE', 'FRHT',\n",
              "       'INTL', 'INTER', 'OLDSM', 'HYU', 'MASE', 'Toyot', 'PORSC', 'TESLA',\n",
              "       'JEE', 'NFLY', 'TSMR', 'MACK', 'NEWF', 'Nissa', 'Honda'],\n",
              "      dtype='object')"
            ]
          },
          "metadata": {
            "tags": []
          },
          "execution_count": 25
        }
      ]
    },
    {
      "cell_type": "markdown",
      "metadata": {
        "id": "JLZPl1A7-V3a"
      },
      "source": [
        "Based on the above value counts, one can notice that the same make type is referred under different names. For example, HONDA and HOND refer the same vehicle manufacturing company. Hence, there is a need for data cleaning."
      ]
    },
    {
      "cell_type": "code",
      "metadata": {
        "id": "LL63hc38-REL",
        "colab": {
          "base_uri": "https://localhost:8080/"
        },
        "outputId": "ffd3a3b1-4c8b-4e59-f5a5-ff709179bbcb"
      },
      "source": [
        "data[\"Make\"].nunique()"
      ],
      "execution_count": 26,
      "outputs": [
        {
          "output_type": "execute_result",
          "data": {
            "text/plain": [
              "297"
            ]
          },
          "metadata": {
            "tags": []
          },
          "execution_count": 26
        }
      ]
    },
    {
      "cell_type": "markdown",
      "metadata": {
        "id": "lCm8_WCq-wjy"
      },
      "source": [
        "Noticed that the same vehicle manufacturer is being referred under multiple names. For example, Acura is being referred as ACU, ACUR along with Acura\n",
        "\n",
        "Hence, cleaning the make values"
      ]
    },
    {
      "cell_type": "code",
      "metadata": {
        "id": "CBLt4aFw-aYq"
      },
      "source": [
        "\n",
        "#Creating two lists -  one for the current value and the other for replacement value\n",
        "lt = [\"toy\",\"vol\",\"hyu\",\"for\",\"nis\",\"hon\",\"ren\",\"suz\",\"bmw\",\"cha\",\"maz\",\"por\",\"sub\",\"cad\",\"hum\",\"dod\",\"kia\",\"har\",\"mer\"]\n",
        "substitute = [\"Toyota\",\"Volkswagen\",\"Hyundai\",\"Ford\",\"Nissan\",\"Honda\",\"Renault\",\"Suzuki\",\"BMW\",\"Changan\",\"Mazda\",\"Porsche\",\"Subaru\",\"Cadlliac\",\"Hummer\",\"Dodge\",\"Kia\"\n",
        ",\"Harrley\",\"Mercedes\"]\n",
        "import re\n",
        "\n",
        "for p,q in zip(lt,substitute):\n",
        "  pattern = p.upper() + \"[A-Z]*\" #creating a regex pattern\n",
        "  data[\"Make\"]=data[\"Make\"].replace(pattern,q,regex=True)\n"
      ],
      "execution_count": 27,
      "outputs": []
    },
    {
      "cell_type": "code",
      "metadata": {
        "id": "LaAVh8J9LOnw",
        "colab": {
          "base_uri": "https://localhost:8080/"
        },
        "outputId": "463b4c38-0758-4b0f-babb-fdb2b958f37b"
      },
      "source": [
        "print(\"Number of vehicle make values after cleaning the data: \")\n",
        "print(data[\"Make\"].nunique())"
      ],
      "execution_count": 28,
      "outputs": [
        {
          "output_type": "stream",
          "text": [
            "Number of vehicle make values after cleaning the data: \n",
            "258\n"
          ],
          "name": "stdout"
        }
      ]
    },
    {
      "cell_type": "code",
      "metadata": {
        "id": "SgMMguteMzlm",
        "colab": {
          "base_uri": "https://localhost:8080/"
        },
        "outputId": "3bf75831-28e9-4f8e-93bd-cf7d4dc30701"
      },
      "source": [
        "data[\"Make\"].value_counts().head(20)"
      ],
      "execution_count": 29,
      "outputs": [
        {
          "output_type": "execute_result",
          "data": {
            "text/plain": [
              "Honda         23633\n",
              "Toyota        21745\n",
              "Nissan        18429\n",
              "Ford          17613\n",
              "CHEV          13560\n",
              "Hyundai        9980\n",
              "Dodge          6182\n",
              "Volkswagen     5668\n",
              "JEEP           5495\n",
              "ACUR           4962\n",
              "Mercedes       4813\n",
              "Kia            3900\n",
              "BMW            3421\n",
              "Mazda          3229\n",
              "LEXS           3061\n",
              "CHEVR          3009\n",
              "Subaru         2974\n",
              "CHRY           2748\n",
              "INFI           2675\n",
              "GMC            2243\n",
              "Name: Make, dtype: int64"
            ]
          },
          "metadata": {
            "tags": []
          },
          "execution_count": 29
        }
      ]
    },
    {
      "cell_type": "code",
      "metadata": {
        "id": "bZIbfqepNoHO",
        "colab": {
          "base_uri": "https://localhost:8080/",
          "height": 439
        },
        "outputId": "9e1bfcb5-e5d6-437e-c742-e1138ed3a952"
      },
      "source": [
        "plt.figure(figsize=(18,6))\n",
        "sns.barplot(x=data[\"Make\"].value_counts().head(20).index,y=data[\"Make\"].value_counts().head(20).values)\n",
        "plt.title(\"Vehicle Make distribution\")\n",
        "plt.xticks(rotation=90)\n",
        "plt.show()"
      ],
      "execution_count": 30,
      "outputs": [
        {
          "output_type": "display_data",
          "data": {
            "image/png": "[encoded data removed]",
            "text/plain": [
              "<Figure size 1296x432 with 1 Axes>"
            ]
          },
          "metadata": {
            "tags": [],
            "needs_background": "light"
          }
        }
      ]
    },
    {
      "cell_type": "code",
      "metadata": {
        "id": "1b5C5Je7yJs5",
        "colab": {
          "base_uri": "https://localhost:8080/",
          "height": 861
        },
        "outputId": "055ecf0d-2d7d-4f2a-e087-ac99f60abd23"
      },
      "source": [
        "plt.figure(figsize=(18,6))\n",
        "sns.barplot(x=data[data[\"ViolDate\"].dt.year==2019][\"Make\"].value_counts().head(20).index,y=data[data[\"ViolDate\"].dt.year==2019][\"Make\"].value_counts().head(20).values)\n",
        "plt.title(\"Vehicle Make distribution in April 2019\")\n",
        "plt.xticks(rotation=90)\n",
        "plt.show()\n",
        "plt.figure(figsize=(18,6))\n",
        "sns.barplot(x=data[data[\"ViolDate\"].dt.year==2020][\"Make\"].value_counts().head(20).index,y=data[data[\"ViolDate\"].dt.year==2020][\"Make\"].value_counts().head(20).values)\n",
        "plt.title(\"Vehicle Make distribution in April 2020\")\n",
        "plt.xticks(rotation=90)\n",
        "plt.show()"
      ],
      "execution_count": 31,
      "outputs": [
        {
          "output_type": "display_data",
          "data": {
            "image/png": "[encoded data removed]",
            "text/plain": [
              "<Figure size 1296x432 with 1 Axes>"
            ]
          },
          "metadata": {
            "tags": [],
            "needs_background": "light"
          }
        },
        {
          "output_type": "display_data",
          "data": {
            "image/png": "[encoded data removed]",
            "text/plain": [
              "<Figure size 1296x432 with 1 Axes>"
            ]
          },
          "metadata": {
            "tags": [],
            "needs_background": "light"
          }
        }
      ]
    },
    {
      "cell_type": "markdown",
      "metadata": {
        "id": "WQH60uOCzHWk"
      },
      "source": [
        "From the above visualizations, I conclude that the major violations are reported by the vehicles Honda, Toyota and Nissan"
      ]
    },
    {
      "cell_type": "code",
      "metadata": {
        "id": "qr60nD44yJRq"
      },
      "source": [
        ""
      ],
      "execution_count": 31,
      "outputs": []
    },
    {
      "cell_type": "code",
      "metadata": {
        "id": "fNEvnt1FVaAg",
        "colab": {
          "base_uri": "https://localhost:8080/"
        },
        "outputId": "2b63359a-7e6d-4eaf-e577-aaa6e6e0ad81"
      },
      "source": [
        "data.columns"
      ],
      "execution_count": 32,
      "outputs": [
        {
          "output_type": "execute_result",
          "data": {
            "text/plain": [
              "Index(['Citation', 'Tag', 'ExpMM', 'ExpYY', 'State', 'Make', 'Address',\n",
              "       'ViolCode', 'Description', 'ViolFine', 'ViolDate', 'Balance',\n",
              "       'OpenFine', 'OpenPenalty', 'NoticeDate', 'GeneralStatus', 'GroupID',\n",
              "       'ImportDate'],\n",
              "      dtype='object')"
            ]
          },
          "metadata": {
            "tags": []
          },
          "execution_count": 32
        }
      ]
    },
    {
      "cell_type": "markdown",
      "metadata": {
        "id": "uCChBR6UzSLs"
      },
      "source": [
        "#### Analyzing the Violation Codes"
      ]
    },
    {
      "cell_type": "code",
      "metadata": {
        "id": "O2zdDSJgVass",
        "colab": {
          "base_uri": "https://localhost:8080/"
        },
        "outputId": "52580163-728a-45a5-cfb0-ea766021a582"
      },
      "source": [
        "print(\"Count of Violations reported per each violation code\")\n",
        "data[\"ViolCode\"].value_counts()"
      ],
      "execution_count": 33,
      "outputs": [
        {
          "output_type": "stream",
          "text": [
            "Count of Violations reported per each violation code\n"
          ],
          "name": "stdout"
        },
        {
          "output_type": "execute_result",
          "data": {
            "text/plain": [
              "32    100827\n",
              "31     22135\n",
              "30     21434\n",
              "18      9103\n",
              "27      4674\n",
              "12      4606\n",
              "22      3792\n",
              "8       3029\n",
              "11      1926\n",
              "99      1205\n",
              "46       911\n",
              "5        645\n",
              "15       547\n",
              "17       425\n",
              "20       334\n",
              "26       251\n",
              "3        239\n",
              "19       238\n",
              "1        206\n",
              "6        143\n",
              "10        93\n",
              "43        72\n",
              "47        58\n",
              "16        56\n",
              "13        37\n",
              "9         18\n",
              "42        18\n",
              "41        12\n",
              "23         5\n",
              "45         2\n",
              "28         2\n",
              "44         1\n",
              "52         1\n",
              "25         1\n",
              "4          1\n",
              "2          1\n",
              "40         1\n",
              "Name: ViolCode, dtype: int64"
            ]
          },
          "metadata": {
            "tags": []
          },
          "execution_count": 33
        }
      ]
    },
    {
      "cell_type": "code",
      "metadata": {
        "id": "ljEbONuBYRDQ",
        "colab": {
          "base_uri": "https://localhost:8080/"
        },
        "outputId": "9d126b20-c3a4-4ab4-a83f-7f88e85ae5dc"
      },
      "source": [
        "#Checing if there are any null values\n",
        "data[[\"ViolCode\",\"Description\"]].isnull().sum()"
      ],
      "execution_count": 34,
      "outputs": [
        {
          "output_type": "execute_result",
          "data": {
            "text/plain": [
              "ViolCode       0\n",
              "Description    0\n",
              "dtype: int64"
            ]
          },
          "metadata": {
            "tags": []
          },
          "execution_count": 34
        }
      ]
    },
    {
      "cell_type": "code",
      "metadata": {
        "id": "G9WgEK8IYdJu",
        "colab": {
          "base_uri": "https://localhost:8080/",
          "height": 419
        },
        "outputId": "ae47b617-6d28-4f4a-b054-210072bad401"
      },
      "source": [
        "data[[\"ViolCode\",\"Description\"]]"
      ],
      "execution_count": 35,
      "outputs": [
        {
          "output_type": "execute_result",
          "data": {
            "text/html": [
              "<div>\n",
              "<style scoped>\n",
              "    .dataframe tbody tr th:only-of-type {\n",
              "        vertical-align: middle;\n",
              "    }\n",
              "\n",
              "    .dataframe tbody tr th {\n",
              "        vertical-align: top;\n",
              "    }\n",
              "\n",
              "    .dataframe thead th {\n",
              "        text-align: right;\n",
              "    }\n",
              "</style>\n",
              "<table border=\"1\" class=\"dataframe\">\n",
              "  <thead>\n",
              "    <tr style=\"text-align: right;\">\n",
              "      <th></th>\n",
              "      <th>ViolCode</th>\n",
              "      <th>Description</th>\n",
              "    </tr>\n",
              "  </thead>\n",
              "  <tbody>\n",
              "    <tr>\n",
              "      <th>425</th>\n",
              "      <td>32</td>\n",
              "      <td>Fixed Speed Camera</td>\n",
              "    </tr>\n",
              "    <tr>\n",
              "      <th>426</th>\n",
              "      <td>32</td>\n",
              "      <td>Fixed Speed Camera</td>\n",
              "    </tr>\n",
              "    <tr>\n",
              "      <th>427</th>\n",
              "      <td>32</td>\n",
              "      <td>Fixed Speed Camera</td>\n",
              "    </tr>\n",
              "    <tr>\n",
              "      <th>859</th>\n",
              "      <td>22</td>\n",
              "      <td>Expired Tags</td>\n",
              "    </tr>\n",
              "    <tr>\n",
              "      <th>1081</th>\n",
              "      <td>22</td>\n",
              "      <td>Expired Tags</td>\n",
              "    </tr>\n",
              "    <tr>\n",
              "      <th>...</th>\n",
              "      <td>...</td>\n",
              "      <td>...</td>\n",
              "    </tr>\n",
              "    <tr>\n",
              "      <th>4825914</th>\n",
              "      <td>99</td>\n",
              "      <td>All Other Stopping or Parking Violations</td>\n",
              "    </tr>\n",
              "    <tr>\n",
              "      <th>4825930</th>\n",
              "      <td>5</td>\n",
              "      <td>Obstruct/Impeding Movement of Pedestrian</td>\n",
              "    </tr>\n",
              "    <tr>\n",
              "      <th>4825947</th>\n",
              "      <td>12</td>\n",
              "      <td>No Stopping/Standing Not Tow-Away Zone</td>\n",
              "    </tr>\n",
              "    <tr>\n",
              "      <th>4825996</th>\n",
              "      <td>12</td>\n",
              "      <td>No Stopping/Standing Not Tow-Away Zone</td>\n",
              "    </tr>\n",
              "    <tr>\n",
              "      <th>4826202</th>\n",
              "      <td>46</td>\n",
              "      <td>No Parking/Standing In Bus Stop/Bus Lane</td>\n",
              "    </tr>\n",
              "  </tbody>\n",
              "</table>\n",
              "<p>177049 rows × 2 columns</p>\n",
              "</div>"
            ],
            "text/plain": [
              "         ViolCode                               Description\n",
              "425            32                        Fixed Speed Camera\n",
              "426            32                        Fixed Speed Camera\n",
              "427            32                        Fixed Speed Camera\n",
              "859            22                              Expired Tags\n",
              "1081           22                              Expired Tags\n",
              "...           ...                                       ...\n",
              "4825914        99  All Other Stopping or Parking Violations\n",
              "4825930         5  Obstruct/Impeding Movement of Pedestrian\n",
              "4825947        12    No Stopping/Standing Not Tow-Away Zone\n",
              "4825996        12    No Stopping/Standing Not Tow-Away Zone\n",
              "4826202        46  No Parking/Standing In Bus Stop/Bus Lane\n",
              "\n",
              "[177049 rows x 2 columns]"
            ]
          },
          "metadata": {
            "tags": []
          },
          "execution_count": 35
        }
      ]
    },
    {
      "cell_type": "code",
      "metadata": {
        "id": "8t2_o2wIY3wP",
        "colab": {
          "base_uri": "https://localhost:8080/"
        },
        "outputId": "20365eff-51db-4860-ac04-5d47dffe5431"
      },
      "source": [
        "data[\"ViolCode\"].nunique()"
      ],
      "execution_count": 36,
      "outputs": [
        {
          "output_type": "execute_result",
          "data": {
            "text/plain": [
              "37"
            ]
          },
          "metadata": {
            "tags": []
          },
          "execution_count": 36
        }
      ]
    },
    {
      "cell_type": "code",
      "metadata": {
        "id": "s5aCQ6c0ZIZF"
      },
      "source": [
        "#Creating a dictionary of violation code and it's description\n",
        "dict_viol_description={}\n",
        "\n",
        "for x in data[\"ViolCode\"].unique():\n",
        "  dict_viol_description[x] = data[data[\"ViolCode\"]==x][\"Description\"].values[0]"
      ],
      "execution_count": 37,
      "outputs": []
    },
    {
      "cell_type": "code",
      "metadata": {
        "id": "Tq1D3uDcZjx-",
        "colab": {
          "base_uri": "https://localhost:8080/"
        },
        "outputId": "f2b74c84-8e8b-4fc6-a9c4-d497c27e74ff"
      },
      "source": [
        "dict_viol_description"
      ],
      "execution_count": 38,
      "outputs": [
        {
          "output_type": "execute_result",
          "data": {
            "text/plain": [
              "{1: 'Abandonded Vehicle',\n",
              " 2: 'No Stopping or No Parking Pimlico Event',\n",
              " 3: 'Obstruct/Impeding Flow of Traffic',\n",
              " 4: 'Snow Emergency Route Violation',\n",
              " 5: 'Obstruct/Impeding Movement of Pedestrian',\n",
              " 6: 'Fire Lane/Handicapped Violation',\n",
              " 8: 'No Stopping/Standing Tow Away Zone',\n",
              " 9: 'Commercial Veh/Residence over 20,000 lbs',\n",
              " 10: 'Commercial Veh/Residence under 20,000 lbs',\n",
              " 11: 'Residential Parking Permit Only',\n",
              " 12: 'No Stopping/Standing Not Tow-Away Zone',\n",
              " 13: 'Blocking Garage or Driveway',\n",
              " 15: 'No Stopping//Parking Stadium Event Camden',\n",
              " 16: 'No Parking/Standing In Transit Stop',\n",
              " 17: 'Less Than 15 feet from Fire Hydrant',\n",
              " 18: 'All Other Parking Meter Violations',\n",
              " 19: 'Exceeding 48 Hours',\n",
              " 20: 'Passenger Loading Zone',\n",
              " 22: 'Expired Tags',\n",
              " 23: 'In Taxicab Stand',\n",
              " 25: 'Less 30’ from Intersection',\n",
              " 26: 'No Stop/Park Handicap',\n",
              " 27: 'No Stop/Park Street Cleaning',\n",
              " 28: 'No Stop/Stand/Park Cruising',\n",
              " 30: 'Red Light Violation',\n",
              " 31: 'Right on Red',\n",
              " 32: 'Fixed Speed Camera',\n",
              " 40: 'Unlawful Dumping/Waste Hauler w/o Permit',\n",
              " 41: 'No Parking/Standing In Bike Lanes',\n",
              " 42: 'Commercial Vehicle Obstruct/Imped Traffic Flow',\n",
              " 43: 'Obstructing/Imped Traffic Xwalk/inter/school',\n",
              " 44: 'No Parking/Standing Vendor Truck',\n",
              " 45: 'No Parking/Stand Motor Home/Campr/Travel Trailer',\n",
              " 46: 'No Parking/Standing In Bus Stop/Bus Lane',\n",
              " 47: 'Obstructing or Impeding Traffic in an Intersection or Crosswalk',\n",
              " 52: 'Res. Park Permit 4th Offense',\n",
              " 99: 'All Other Stopping or Parking Violations'}"
            ]
          },
          "metadata": {
            "tags": []
          },
          "execution_count": 38
        }
      ]
    },
    {
      "cell_type": "code",
      "metadata": {
        "id": "1jgal0USZlum"
      },
      "source": [
        "#Creating a data frame of violation code and its count\n",
        "violation_code_count = pd.DataFrame(data[\"ViolCode\"].value_counts())"
      ],
      "execution_count": 39,
      "outputs": []
    },
    {
      "cell_type": "code",
      "metadata": {
        "id": "vU945wxbaosk"
      },
      "source": [
        "violation_code_count = violation_code_count.reset_index()\n",
        "violation_code_count.columns=[\"index\",\"counts\"]"
      ],
      "execution_count": 40,
      "outputs": []
    },
    {
      "cell_type": "code",
      "metadata": {
        "id": "mjPDFUlla474"
      },
      "source": [
        "violation_code_count[\"violation description\"] = violation_code_count[\"index\"].map(dict_viol_description)"
      ],
      "execution_count": 41,
      "outputs": []
    },
    {
      "cell_type": "code",
      "metadata": {
        "id": "nfgBlWZEbFjC",
        "colab": {
          "base_uri": "https://localhost:8080/",
          "height": 1000
        },
        "outputId": "36f02700-39e3-419f-f52a-b8dc41125fcb"
      },
      "source": [
        "print(\"The type of violations occured: \")\n",
        "violation_code_count[\"Percentage\"] = round((violation_code_count[\"counts\"]*100)/violation_code_count[\"counts\"].sum(),2)\n",
        "violation_code_count[[\"violation description\",\"counts\",\"Percentage\"]]"
      ],
      "execution_count": 42,
      "outputs": [
        {
          "output_type": "stream",
          "text": [
            "The type of violations occured: \n"
          ],
          "name": "stdout"
        },
        {
          "output_type": "execute_result",
          "data": {
            "text/html": [
              "<div>\n",
              "<style scoped>\n",
              "    .dataframe tbody tr th:only-of-type {\n",
              "        vertical-align: middle;\n",
              "    }\n",
              "\n",
              "    .dataframe tbody tr th {\n",
              "        vertical-align: top;\n",
              "    }\n",
              "\n",
              "    .dataframe thead th {\n",
              "        text-align: right;\n",
              "    }\n",
              "</style>\n",
              "<table border=\"1\" class=\"dataframe\">\n",
              "  <thead>\n",
              "    <tr style=\"text-align: right;\">\n",
              "      <th></th>\n",
              "      <th>violation description</th>\n",
              "      <th>counts</th>\n",
              "      <th>Percentage</th>\n",
              "    </tr>\n",
              "  </thead>\n",
              "  <tbody>\n",
              "    <tr>\n",
              "      <th>0</th>\n",
              "      <td>Fixed Speed Camera</td>\n",
              "      <td>100827</td>\n",
              "      <td>56.95</td>\n",
              "    </tr>\n",
              "    <tr>\n",
              "      <th>1</th>\n",
              "      <td>Right on Red</td>\n",
              "      <td>22135</td>\n",
              "      <td>12.50</td>\n",
              "    </tr>\n",
              "    <tr>\n",
              "      <th>2</th>\n",
              "      <td>Red Light Violation</td>\n",
              "      <td>21434</td>\n",
              "      <td>12.11</td>\n",
              "    </tr>\n",
              "    <tr>\n",
              "      <th>3</th>\n",
              "      <td>All Other Parking Meter Violations</td>\n",
              "      <td>9103</td>\n",
              "      <td>5.14</td>\n",
              "    </tr>\n",
              "    <tr>\n",
              "      <th>4</th>\n",
              "      <td>No Stop/Park Street Cleaning</td>\n",
              "      <td>4674</td>\n",
              "      <td>2.64</td>\n",
              "    </tr>\n",
              "    <tr>\n",
              "      <th>5</th>\n",
              "      <td>No Stopping/Standing Not Tow-Away Zone</td>\n",
              "      <td>4606</td>\n",
              "      <td>2.60</td>\n",
              "    </tr>\n",
              "    <tr>\n",
              "      <th>6</th>\n",
              "      <td>Expired Tags</td>\n",
              "      <td>3792</td>\n",
              "      <td>2.14</td>\n",
              "    </tr>\n",
              "    <tr>\n",
              "      <th>7</th>\n",
              "      <td>No Stopping/Standing Tow Away Zone</td>\n",
              "      <td>3029</td>\n",
              "      <td>1.71</td>\n",
              "    </tr>\n",
              "    <tr>\n",
              "      <th>8</th>\n",
              "      <td>Residential Parking Permit Only</td>\n",
              "      <td>1926</td>\n",
              "      <td>1.09</td>\n",
              "    </tr>\n",
              "    <tr>\n",
              "      <th>9</th>\n",
              "      <td>All Other Stopping or Parking Violations</td>\n",
              "      <td>1205</td>\n",
              "      <td>0.68</td>\n",
              "    </tr>\n",
              "    <tr>\n",
              "      <th>10</th>\n",
              "      <td>No Parking/Standing In Bus Stop/Bus Lane</td>\n",
              "      <td>911</td>\n",
              "      <td>0.51</td>\n",
              "    </tr>\n",
              "    <tr>\n",
              "      <th>11</th>\n",
              "      <td>Obstruct/Impeding Movement of Pedestrian</td>\n",
              "      <td>645</td>\n",
              "      <td>0.36</td>\n",
              "    </tr>\n",
              "    <tr>\n",
              "      <th>12</th>\n",
              "      <td>No Stopping//Parking Stadium Event Camden</td>\n",
              "      <td>547</td>\n",
              "      <td>0.31</td>\n",
              "    </tr>\n",
              "    <tr>\n",
              "      <th>13</th>\n",
              "      <td>Less Than 15 feet from Fire Hydrant</td>\n",
              "      <td>425</td>\n",
              "      <td>0.24</td>\n",
              "    </tr>\n",
              "    <tr>\n",
              "      <th>14</th>\n",
              "      <td>Passenger Loading Zone</td>\n",
              "      <td>334</td>\n",
              "      <td>0.19</td>\n",
              "    </tr>\n",
              "    <tr>\n",
              "      <th>15</th>\n",
              "      <td>No Stop/Park Handicap</td>\n",
              "      <td>251</td>\n",
              "      <td>0.14</td>\n",
              "    </tr>\n",
              "    <tr>\n",
              "      <th>16</th>\n",
              "      <td>Obstruct/Impeding Flow of Traffic</td>\n",
              "      <td>239</td>\n",
              "      <td>0.13</td>\n",
              "    </tr>\n",
              "    <tr>\n",
              "      <th>17</th>\n",
              "      <td>Exceeding 48 Hours</td>\n",
              "      <td>238</td>\n",
              "      <td>0.13</td>\n",
              "    </tr>\n",
              "    <tr>\n",
              "      <th>18</th>\n",
              "      <td>Abandonded Vehicle</td>\n",
              "      <td>206</td>\n",
              "      <td>0.12</td>\n",
              "    </tr>\n",
              "    <tr>\n",
              "      <th>19</th>\n",
              "      <td>Fire Lane/Handicapped Violation</td>\n",
              "      <td>143</td>\n",
              "      <td>0.08</td>\n",
              "    </tr>\n",
              "    <tr>\n",
              "      <th>20</th>\n",
              "      <td>Commercial Veh/Residence under 20,000 lbs</td>\n",
              "      <td>93</td>\n",
              "      <td>0.05</td>\n",
              "    </tr>\n",
              "    <tr>\n",
              "      <th>21</th>\n",
              "      <td>Obstructing/Imped Traffic Xwalk/inter/school</td>\n",
              "      <td>72</td>\n",
              "      <td>0.04</td>\n",
              "    </tr>\n",
              "    <tr>\n",
              "      <th>22</th>\n",
              "      <td>Obstructing or Impeding Traffic in an Intersec...</td>\n",
              "      <td>58</td>\n",
              "      <td>0.03</td>\n",
              "    </tr>\n",
              "    <tr>\n",
              "      <th>23</th>\n",
              "      <td>No Parking/Standing In Transit Stop</td>\n",
              "      <td>56</td>\n",
              "      <td>0.03</td>\n",
              "    </tr>\n",
              "    <tr>\n",
              "      <th>24</th>\n",
              "      <td>Blocking Garage or Driveway</td>\n",
              "      <td>37</td>\n",
              "      <td>0.02</td>\n",
              "    </tr>\n",
              "    <tr>\n",
              "      <th>25</th>\n",
              "      <td>Commercial Veh/Residence over 20,000 lbs</td>\n",
              "      <td>18</td>\n",
              "      <td>0.01</td>\n",
              "    </tr>\n",
              "    <tr>\n",
              "      <th>26</th>\n",
              "      <td>Commercial Vehicle Obstruct/Imped Traffic Flow</td>\n",
              "      <td>18</td>\n",
              "      <td>0.01</td>\n",
              "    </tr>\n",
              "    <tr>\n",
              "      <th>27</th>\n",
              "      <td>No Parking/Standing In Bike Lanes</td>\n",
              "      <td>12</td>\n",
              "      <td>0.01</td>\n",
              "    </tr>\n",
              "    <tr>\n",
              "      <th>28</th>\n",
              "      <td>In Taxicab Stand</td>\n",
              "      <td>5</td>\n",
              "      <td>0.00</td>\n",
              "    </tr>\n",
              "    <tr>\n",
              "      <th>29</th>\n",
              "      <td>No Parking/Stand Motor Home/Campr/Travel Trailer</td>\n",
              "      <td>2</td>\n",
              "      <td>0.00</td>\n",
              "    </tr>\n",
              "    <tr>\n",
              "      <th>30</th>\n",
              "      <td>No Stop/Stand/Park Cruising</td>\n",
              "      <td>2</td>\n",
              "      <td>0.00</td>\n",
              "    </tr>\n",
              "    <tr>\n",
              "      <th>31</th>\n",
              "      <td>No Parking/Standing Vendor Truck</td>\n",
              "      <td>1</td>\n",
              "      <td>0.00</td>\n",
              "    </tr>\n",
              "    <tr>\n",
              "      <th>32</th>\n",
              "      <td>Res. Park Permit 4th Offense</td>\n",
              "      <td>1</td>\n",
              "      <td>0.00</td>\n",
              "    </tr>\n",
              "    <tr>\n",
              "      <th>33</th>\n",
              "      <td>Less 30’ from Intersection</td>\n",
              "      <td>1</td>\n",
              "      <td>0.00</td>\n",
              "    </tr>\n",
              "    <tr>\n",
              "      <th>34</th>\n",
              "      <td>Snow Emergency Route Violation</td>\n",
              "      <td>1</td>\n",
              "      <td>0.00</td>\n",
              "    </tr>\n",
              "    <tr>\n",
              "      <th>35</th>\n",
              "      <td>No Stopping or No Parking Pimlico Event</td>\n",
              "      <td>1</td>\n",
              "      <td>0.00</td>\n",
              "    </tr>\n",
              "    <tr>\n",
              "      <th>36</th>\n",
              "      <td>Unlawful Dumping/Waste Hauler w/o Permit</td>\n",
              "      <td>1</td>\n",
              "      <td>0.00</td>\n",
              "    </tr>\n",
              "  </tbody>\n",
              "</table>\n",
              "</div>"
            ],
            "text/plain": [
              "                                violation description  counts  Percentage\n",
              "0                                  Fixed Speed Camera  100827       56.95\n",
              "1                                        Right on Red   22135       12.50\n",
              "2                                 Red Light Violation   21434       12.11\n",
              "3                  All Other Parking Meter Violations    9103        5.14\n",
              "4                        No Stop/Park Street Cleaning    4674        2.64\n",
              "5              No Stopping/Standing Not Tow-Away Zone    4606        2.60\n",
              "6                                        Expired Tags    3792        2.14\n",
              "7                  No Stopping/Standing Tow Away Zone    3029        1.71\n",
              "8                     Residential Parking Permit Only    1926        1.09\n",
              "9            All Other Stopping or Parking Violations    1205        0.68\n",
              "10           No Parking/Standing In Bus Stop/Bus Lane     911        0.51\n",
              "11           Obstruct/Impeding Movement of Pedestrian     645        0.36\n",
              "12          No Stopping//Parking Stadium Event Camden     547        0.31\n",
              "13                Less Than 15 feet from Fire Hydrant     425        0.24\n",
              "14                             Passenger Loading Zone     334        0.19\n",
              "15                              No Stop/Park Handicap     251        0.14\n",
              "16                  Obstruct/Impeding Flow of Traffic     239        0.13\n",
              "17                                 Exceeding 48 Hours     238        0.13\n",
              "18                                 Abandonded Vehicle     206        0.12\n",
              "19                    Fire Lane/Handicapped Violation     143        0.08\n",
              "20          Commercial Veh/Residence under 20,000 lbs      93        0.05\n",
              "21       Obstructing/Imped Traffic Xwalk/inter/school      72        0.04\n",
              "22  Obstructing or Impeding Traffic in an Intersec...      58        0.03\n",
              "23                No Parking/Standing In Transit Stop      56        0.03\n",
              "24                        Blocking Garage or Driveway      37        0.02\n",
              "25           Commercial Veh/Residence over 20,000 lbs      18        0.01\n",
              "26     Commercial Vehicle Obstruct/Imped Traffic Flow      18        0.01\n",
              "27                  No Parking/Standing In Bike Lanes      12        0.01\n",
              "28                                   In Taxicab Stand       5        0.00\n",
              "29   No Parking/Stand Motor Home/Campr/Travel Trailer       2        0.00\n",
              "30                        No Stop/Stand/Park Cruising       2        0.00\n",
              "31                   No Parking/Standing Vendor Truck       1        0.00\n",
              "32                       Res. Park Permit 4th Offense       1        0.00\n",
              "33                         Less 30’ from Intersection       1        0.00\n",
              "34                     Snow Emergency Route Violation       1        0.00\n",
              "35            No Stopping or No Parking Pimlico Event       1        0.00\n",
              "36           Unlawful Dumping/Waste Hauler w/o Permit       1        0.00"
            ]
          },
          "metadata": {
            "tags": []
          },
          "execution_count": 42
        }
      ]
    },
    {
      "cell_type": "code",
      "metadata": {
        "id": "duOeTenObNbe"
      },
      "source": [
        "#Comparing violations that occured in April 2019 to April 2020\n",
        "violation_code_count_2019 = pd.DataFrame(data[data[\"ViolDate\"].dt.year==2019][\"ViolCode\"].value_counts())\n",
        "\n",
        "violation_code_count_2020 = pd.DataFrame(data[data[\"ViolDate\"].dt.year==2020][\"ViolCode\"].value_counts())"
      ],
      "execution_count": 43,
      "outputs": []
    },
    {
      "cell_type": "code",
      "metadata": {
        "id": "eDb2kdhQb-qk"
      },
      "source": [
        "violation_code_count_2019.reset_index(inplace=True)\n",
        "violation_code_count_2020.reset_index(inplace=True)"
      ],
      "execution_count": 44,
      "outputs": []
    },
    {
      "cell_type": "code",
      "metadata": {
        "id": "pz75nz_9dKMp",
        "colab": {
          "base_uri": "https://localhost:8080/",
          "height": 667
        },
        "outputId": "a1489155-823b-4095-d494-9c88b189671d"
      },
      "source": [
        "plt.figure(figsize=(24,5))\n",
        "sns.barplot(x=violation_code_count_2019.sort_values(\"index\")[\"index\"],y=violation_code_count_2019.sort_values(\"index\")[\"ViolCode\"],label=2019)\n",
        "plt.ylabel(\"Counts of particular type of Violation in 2019\")\n",
        "plt.xlabel(\"Violation code\")\n",
        "plt.title(\"Comparing the type of violations that occured in April 2019 and 2020\")\n",
        "plt.show()\n",
        "plt.figure(figsize=(24,5))\n",
        "sns.barplot(x=violation_code_count_2020.sort_values(\"index\")[\"index\"],y=violation_code_count_2020.sort_values(\"index\")[\"ViolCode\"],label=2020)\n",
        "plt.ylabel(\"Counts of particular type of Violation in 2020\")\n",
        "plt.xlabel(\"Violation code\")\n",
        "plt.show()"
      ],
      "execution_count": 45,
      "outputs": [
        {
          "output_type": "display_data",
          "data": {
            "image/png": "[encoded data removed]",
            "text/plain": [
              "<Figure size 1728x360 with 1 Axes>"
            ]
          },
          "metadata": {
            "tags": [],
            "needs_background": "light"
          }
        },
        {
          "output_type": "display_data",
          "data": {
            "image/png": "[encoded data removed]",
            "text/plain": [
              "<Figure size 1728x360 with 1 Axes>"
            ]
          },
          "metadata": {
            "tags": [],
            "needs_background": "light"
          }
        }
      ]
    },
    {
      "cell_type": "markdown",
      "metadata": {
        "id": "RSZUKsRefvsD"
      },
      "source": [
        "For both April 2019 and 2020, noticed that the majority type of violation is Fixed Speed Camera(56%).\n",
        "Following it, are the Red Light Violation (12%) and Right on Red violations (12%).\n",
        "\n",
        "Comparison studies:\n",
        "\n",
        "During the lockdown in April 2020, noticed that violations like Expired tags, Parking meter violations, Residential parking permit and No Stopping/Standing Tow Away Zone only, reduced significantly (as shown in the above graph).\n",
        "\n",
        "\n",
        "\n",
        "\n",
        "\n",
        "\n",
        "\n",
        "\n",
        "\n"
      ]
    },
    {
      "cell_type": "code",
      "metadata": {
        "id": "Be-uaWRYeVWT",
        "colab": {
          "base_uri": "https://localhost:8080/"
        },
        "outputId": "2602814d-8740-4b32-dcda-f6e316bca9b1"
      },
      "source": [
        "data.columns"
      ],
      "execution_count": 46,
      "outputs": [
        {
          "output_type": "execute_result",
          "data": {
            "text/plain": [
              "Index(['Citation', 'Tag', 'ExpMM', 'ExpYY', 'State', 'Make', 'Address',\n",
              "       'ViolCode', 'Description', 'ViolFine', 'ViolDate', 'Balance',\n",
              "       'OpenFine', 'OpenPenalty', 'NoticeDate', 'GeneralStatus', 'GroupID',\n",
              "       'ImportDate'],\n",
              "      dtype='object')"
            ]
          },
          "metadata": {
            "tags": []
          },
          "execution_count": 46
        }
      ]
    },
    {
      "cell_type": "markdown",
      "metadata": {
        "id": "ybf66M-Z1aB8"
      },
      "source": [
        "#### Performing time series analysis of the violations reported per day"
      ]
    },
    {
      "cell_type": "code",
      "metadata": {
        "id": "hZbLNw5siW4m"
      },
      "source": [
        "data[\"ViolDate_only\"] = data[\"ViolDate\"].dt.date\n",
        "data[\"ViolDate_only\"] = pd.to_datetime(data[\"ViolDate_only\"])"
      ],
      "execution_count": 47,
      "outputs": []
    },
    {
      "cell_type": "code",
      "metadata": {
        "id": "4jHne3F0f5oo"
      },
      "source": [
        "violations_per_day = data[[ 'ViolDate_only', \"ViolCode\"]].groupby(\"ViolDate_only\").count()\n",
        "violations_per_day.reset_index(inplace=True)"
      ],
      "execution_count": 48,
      "outputs": []
    },
    {
      "cell_type": "code",
      "metadata": {
        "id": "DUEpenB3g26q"
      },
      "source": [
        "violations_per_day[\"ViolDate_only\"] = pd.to_datetime(violations_per_day[\"ViolDate_only\"])"
      ],
      "execution_count": 49,
      "outputs": []
    },
    {
      "cell_type": "code",
      "metadata": {
        "id": "jkKhuHYsjtZl",
        "colab": {
          "base_uri": "https://localhost:8080/",
          "height": 204
        },
        "outputId": "18dbdf56-0096-485a-905f-09f50bde76cb"
      },
      "source": [
        "violations_per_day.columns = [\"Date\",\"Count\"]\n",
        "\n",
        "violations_per_day.head(5)"
      ],
      "execution_count": 50,
      "outputs": [
        {
          "output_type": "execute_result",
          "data": {
            "text/html": [
              "<div>\n",
              "<style scoped>\n",
              "    .dataframe tbody tr th:only-of-type {\n",
              "        vertical-align: middle;\n",
              "    }\n",
              "\n",
              "    .dataframe tbody tr th {\n",
              "        vertical-align: top;\n",
              "    }\n",
              "\n",
              "    .dataframe thead th {\n",
              "        text-align: right;\n",
              "    }\n",
              "</style>\n",
              "<table border=\"1\" class=\"dataframe\">\n",
              "  <thead>\n",
              "    <tr style=\"text-align: right;\">\n",
              "      <th></th>\n",
              "      <th>Date</th>\n",
              "      <th>Count</th>\n",
              "    </tr>\n",
              "  </thead>\n",
              "  <tbody>\n",
              "    <tr>\n",
              "      <th>0</th>\n",
              "      <td>2019-04-01</td>\n",
              "      <td>3824</td>\n",
              "    </tr>\n",
              "    <tr>\n",
              "      <th>1</th>\n",
              "      <td>2019-04-02</td>\n",
              "      <td>3849</td>\n",
              "    </tr>\n",
              "    <tr>\n",
              "      <th>2</th>\n",
              "      <td>2019-04-03</td>\n",
              "      <td>4327</td>\n",
              "    </tr>\n",
              "    <tr>\n",
              "      <th>3</th>\n",
              "      <td>2019-04-04</td>\n",
              "      <td>3966</td>\n",
              "    </tr>\n",
              "    <tr>\n",
              "      <th>4</th>\n",
              "      <td>2019-04-05</td>\n",
              "      <td>4084</td>\n",
              "    </tr>\n",
              "  </tbody>\n",
              "</table>\n",
              "</div>"
            ],
            "text/plain": [
              "        Date  Count\n",
              "0 2019-04-01   3824\n",
              "1 2019-04-02   3849\n",
              "2 2019-04-03   4327\n",
              "3 2019-04-04   3966\n",
              "4 2019-04-05   4084"
            ]
          },
          "metadata": {
            "tags": []
          },
          "execution_count": 50
        }
      ]
    },
    {
      "cell_type": "code",
      "metadata": {
        "id": "nxT2EICufqTP",
        "colab": {
          "base_uri": "https://localhost:8080/",
          "height": 744
        },
        "outputId": "ce7ab7d5-c0fe-4e40-fd1e-185470905373"
      },
      "source": [
        "plt.figure(figsize=(24,5))\n",
        "sns.scatterplot(data=violations_per_day[violations_per_day[\"Date\"].dt.year==2019], y=\"Count\",x=\"Date\",hue=violations_per_day[(violations_per_day[\"Date\"].dt.year==2019)][\"Date\"].dt.dayofweek.isin([5,6]))\n",
        "sns.lineplot(data=violations_per_day[violations_per_day[\"Date\"].dt.year==2019], y=\"Count\",x=\"Date\")\n",
        "plt.legend(title=\"Weekend or not?\")\n",
        "plt.xticks(rotation=45)\n",
        "plt.title(\"Distribution of violations across various days in the month of April, 2019 and 2020\")\n",
        "plt.xlabel(\"Month of April, 2019\")\n",
        "plt.show()\n",
        "plt.figure(figsize=(24,5))\n",
        "sns.scatterplot(data=violations_per_day[violations_per_day[\"Date\"].dt.year==2020], y=\"Count\",x=\"Date\",hue=violations_per_day[(violations_per_day[\"Date\"].dt.year==2020)][\"Date\"].dt.dayofweek.isin([5,6]))\n",
        "sns.lineplot(data=violations_per_day[violations_per_day[\"Date\"].dt.year==2020], y=\"Count\",x=\"Date\")\n",
        "plt.legend(title=\"Weekend or not?\")\n",
        "plt.xlabel(\"Month of April, 2020\")\n",
        "plt.xticks(rotation=45)\n",
        "plt.show()"
      ],
      "execution_count": 51,
      "outputs": [
        {
          "output_type": "display_data",
          "data": {
            "image/png": "[encoded data removed]",
            "text/plain": [
              "<Figure size 1728x360 with 1 Axes>"
            ]
          },
          "metadata": {
            "tags": [],
            "needs_background": "light"
          }
        },
        {
          "output_type": "display_data",
          "data": {
            "image/png": "[encoded data removed]",
            "text/plain": [
              "<Figure size 1728x360 with 1 Axes>"
            ]
          },
          "metadata": {
            "tags": [],
            "needs_background": "light"
          }
        }
      ]
    },
    {
      "cell_type": "markdown",
      "metadata": {
        "id": "aq1vKOd6obtZ"
      },
      "source": [
        "Noticed that there is a significant drop in violations on weekends when compared to weekdays!\n",
        "\n",
        "In April, 2020 noticed a trend of increased violations every week in comparison to the previous week."
      ]
    },
    {
      "cell_type": "code",
      "metadata": {
        "id": "ISp7QyUvkjiK",
        "colab": {
          "base_uri": "https://localhost:8080/",
          "height": 204
        },
        "outputId": "89646ef1-0669-4a5f-995f-0b2a95855fb9"
      },
      "source": [
        "violations_per_day.head()"
      ],
      "execution_count": 52,
      "outputs": [
        {
          "output_type": "execute_result",
          "data": {
            "text/html": [
              "<div>\n",
              "<style scoped>\n",
              "    .dataframe tbody tr th:only-of-type {\n",
              "        vertical-align: middle;\n",
              "    }\n",
              "\n",
              "    .dataframe tbody tr th {\n",
              "        vertical-align: top;\n",
              "    }\n",
              "\n",
              "    .dataframe thead th {\n",
              "        text-align: right;\n",
              "    }\n",
              "</style>\n",
              "<table border=\"1\" class=\"dataframe\">\n",
              "  <thead>\n",
              "    <tr style=\"text-align: right;\">\n",
              "      <th></th>\n",
              "      <th>Date</th>\n",
              "      <th>Count</th>\n",
              "    </tr>\n",
              "  </thead>\n",
              "  <tbody>\n",
              "    <tr>\n",
              "      <th>0</th>\n",
              "      <td>2019-04-01</td>\n",
              "      <td>3824</td>\n",
              "    </tr>\n",
              "    <tr>\n",
              "      <th>1</th>\n",
              "      <td>2019-04-02</td>\n",
              "      <td>3849</td>\n",
              "    </tr>\n",
              "    <tr>\n",
              "      <th>2</th>\n",
              "      <td>2019-04-03</td>\n",
              "      <td>4327</td>\n",
              "    </tr>\n",
              "    <tr>\n",
              "      <th>3</th>\n",
              "      <td>2019-04-04</td>\n",
              "      <td>3966</td>\n",
              "    </tr>\n",
              "    <tr>\n",
              "      <th>4</th>\n",
              "      <td>2019-04-05</td>\n",
              "      <td>4084</td>\n",
              "    </tr>\n",
              "  </tbody>\n",
              "</table>\n",
              "</div>"
            ],
            "text/plain": [
              "        Date  Count\n",
              "0 2019-04-01   3824\n",
              "1 2019-04-02   3849\n",
              "2 2019-04-03   4327\n",
              "3 2019-04-04   3966\n",
              "4 2019-04-05   4084"
            ]
          },
          "metadata": {
            "tags": []
          },
          "execution_count": 52
        }
      ]
    },
    {
      "cell_type": "code",
      "metadata": {
        "colab": {
          "base_uri": "https://localhost:8080/",
          "height": 204
        },
        "id": "Vo597fewuuX5",
        "outputId": "201b91a2-fa67-4a4b-958f-fc919504a5ea"
      },
      "source": [
        "violations_per_day.tail()"
      ],
      "execution_count": 53,
      "outputs": [
        {
          "output_type": "execute_result",
          "data": {
            "text/html": [
              "<div>\n",
              "<style scoped>\n",
              "    .dataframe tbody tr th:only-of-type {\n",
              "        vertical-align: middle;\n",
              "    }\n",
              "\n",
              "    .dataframe tbody tr th {\n",
              "        vertical-align: top;\n",
              "    }\n",
              "\n",
              "    .dataframe thead th {\n",
              "        text-align: right;\n",
              "    }\n",
              "</style>\n",
              "<table border=\"1\" class=\"dataframe\">\n",
              "  <thead>\n",
              "    <tr style=\"text-align: right;\">\n",
              "      <th></th>\n",
              "      <th>Date</th>\n",
              "      <th>Count</th>\n",
              "    </tr>\n",
              "  </thead>\n",
              "  <tbody>\n",
              "    <tr>\n",
              "      <th>55</th>\n",
              "      <td>2020-04-26</td>\n",
              "      <td>458</td>\n",
              "    </tr>\n",
              "    <tr>\n",
              "      <th>56</th>\n",
              "      <td>2020-04-27</td>\n",
              "      <td>3863</td>\n",
              "    </tr>\n",
              "    <tr>\n",
              "      <th>57</th>\n",
              "      <td>2020-04-28</td>\n",
              "      <td>3408</td>\n",
              "    </tr>\n",
              "    <tr>\n",
              "      <th>58</th>\n",
              "      <td>2020-04-29</td>\n",
              "      <td>3797</td>\n",
              "    </tr>\n",
              "    <tr>\n",
              "      <th>59</th>\n",
              "      <td>2020-04-30</td>\n",
              "      <td>2375</td>\n",
              "    </tr>\n",
              "  </tbody>\n",
              "</table>\n",
              "</div>"
            ],
            "text/plain": [
              "         Date  Count\n",
              "55 2020-04-26    458\n",
              "56 2020-04-27   3863\n",
              "57 2020-04-28   3408\n",
              "58 2020-04-29   3797\n",
              "59 2020-04-30   2375"
            ]
          },
          "metadata": {
            "tags": []
          },
          "execution_count": 53
        }
      ]
    },
    {
      "cell_type": "code",
      "metadata": {
        "colab": {
          "base_uri": "https://localhost:8080/",
          "height": 442
        },
        "id": "A-dhEOfOuz_J",
        "outputId": "1c12d94d-413b-4802-9693-1b98bced8820"
      },
      "source": [
        "plt.figure(figsize=(24,6))\n",
        "sns.lineplot(y=violations_per_day[\"Count\"].diff(30),x=violations_per_day[\"Date\"][30:])\n",
        "sns.scatterplot(y=violations_per_day[\"Count\"].diff(30),x=violations_per_day[\"Date\"][30:],hue=violations_per_day[\"Date\"][30:].dt.dayofweek.isin([5,6]),palette=\"coolwarm\")\n",
        "plt.legend(title=\"Weekend or not?\",labels=[\"False\",\"True\"])\n",
        "plt.title(\"The difference of violations count in April 2020 in comparion to April 2019\")\n",
        "plt.xlabel(\"Month of April, 2020\")\n",
        "plt.xticks(rotation=45)\n",
        "plt.show()"
      ],
      "execution_count": 103,
      "outputs": [
        {
          "output_type": "display_data",
          "data": {
            "image/png": "[encoded data removed]",
            "text/plain": [
              "<Figure size 1728x432 with 1 Axes>"
            ]
          },
          "metadata": {
            "tags": [],
            "needs_background": "light"
          }
        }
      ]
    },
    {
      "cell_type": "code",
      "metadata": {
        "id": "VyDPrbtTuu0F"
      },
      "source": [
        ""
      ],
      "execution_count": 88,
      "outputs": []
    },
    {
      "cell_type": "markdown",
      "metadata": {
        "id": "gF_4vkxlqJzO"
      },
      "source": [
        "### Is there a change in fine amount in April, 2020 in comparison to 2019?"
      ]
    },
    {
      "cell_type": "code",
      "metadata": {
        "id": "3wISrx0aucw-"
      },
      "source": [
        "a = pd.DataFrame(data[data[\"ViolDate\"].dt.year==2020].groupby([\"ViolCode\"])[\"ViolFine\"].unique())\n",
        "fines_cost_2019_2020 = pd.DataFrame(data[data[\"ViolDate\"].dt.year==2019].groupby([\"ViolCode\"])[\"ViolFine\"].unique()).join(a,on=\"ViolCode\",rsuffix=\"_2020\")"
      ],
      "execution_count": null,
      "outputs": []
    },
    {
      "cell_type": "code",
      "metadata": {
        "id": "8gVQ7UEWeWLj"
      },
      "source": [
        "fines_cost_2019_2020\n",
        "\n",
        "def issame(x):\n",
        "  if x[0]==x[1]:\n",
        "    return True\n",
        "  else:\n",
        "    return False\n",
        "\n",
        "fines_cost_2019_2020[\"IsSame\"] = fines_cost_2019_2020[[\"ViolFine\",\"ViolFine_2020\"]].apply(issame,axis=1)"
      ],
      "execution_count": null,
      "outputs": []
    },
    {
      "cell_type": "code",
      "metadata": {
        "id": "7J2PcoT4xX2g",
        "colab": {
          "base_uri": "https://localhost:8080/",
          "height": 1000
        },
        "outputId": "053eda60-069b-492e-c13c-93858162937d"
      },
      "source": [
        "fines_cost_2019_2020"
      ],
      "execution_count": null,
      "outputs": [
        {
          "output_type": "execute_result",
          "data": {
            "text/html": [
              "<div>\n",
              "<style scoped>\n",
              "    .dataframe tbody tr th:only-of-type {\n",
              "        vertical-align: middle;\n",
              "    }\n",
              "\n",
              "    .dataframe tbody tr th {\n",
              "        vertical-align: top;\n",
              "    }\n",
              "\n",
              "    .dataframe thead th {\n",
              "        text-align: right;\n",
              "    }\n",
              "</style>\n",
              "<table border=\"1\" class=\"dataframe\">\n",
              "  <thead>\n",
              "    <tr style=\"text-align: right;\">\n",
              "      <th></th>\n",
              "      <th>ViolFine</th>\n",
              "      <th>ViolFine_2020</th>\n",
              "      <th>IsSame</th>\n",
              "    </tr>\n",
              "    <tr>\n",
              "      <th>ViolCode</th>\n",
              "      <th></th>\n",
              "      <th></th>\n",
              "      <th></th>\n",
              "    </tr>\n",
              "  </thead>\n",
              "  <tbody>\n",
              "    <tr>\n",
              "      <th>1</th>\n",
              "      <td>[302.0]</td>\n",
              "      <td>[302.0]</td>\n",
              "      <td>True</td>\n",
              "    </tr>\n",
              "    <tr>\n",
              "      <th>2</th>\n",
              "      <td>[102.0]</td>\n",
              "      <td>NaN</td>\n",
              "      <td>False</td>\n",
              "    </tr>\n",
              "    <tr>\n",
              "      <th>3</th>\n",
              "      <td>[102.0]</td>\n",
              "      <td>[102.0]</td>\n",
              "      <td>True</td>\n",
              "    </tr>\n",
              "    <tr>\n",
              "      <th>4</th>\n",
              "      <td>[77.0]</td>\n",
              "      <td>NaN</td>\n",
              "      <td>False</td>\n",
              "    </tr>\n",
              "    <tr>\n",
              "      <th>5</th>\n",
              "      <td>[77.0]</td>\n",
              "      <td>[77.0]</td>\n",
              "      <td>True</td>\n",
              "    </tr>\n",
              "    <tr>\n",
              "      <th>6</th>\n",
              "      <td>[77.0]</td>\n",
              "      <td>[77.0]</td>\n",
              "      <td>True</td>\n",
              "    </tr>\n",
              "    <tr>\n",
              "      <th>8</th>\n",
              "      <td>[52.0]</td>\n",
              "      <td>[52.0]</td>\n",
              "      <td>True</td>\n",
              "    </tr>\n",
              "    <tr>\n",
              "      <th>9</th>\n",
              "      <td>[502.0]</td>\n",
              "      <td>[502.0]</td>\n",
              "      <td>True</td>\n",
              "    </tr>\n",
              "    <tr>\n",
              "      <th>10</th>\n",
              "      <td>[252.0]</td>\n",
              "      <td>[252.0]</td>\n",
              "      <td>True</td>\n",
              "    </tr>\n",
              "    <tr>\n",
              "      <th>11</th>\n",
              "      <td>[52.0]</td>\n",
              "      <td>[52.0]</td>\n",
              "      <td>True</td>\n",
              "    </tr>\n",
              "    <tr>\n",
              "      <th>12</th>\n",
              "      <td>[32.0]</td>\n",
              "      <td>[32.0]</td>\n",
              "      <td>True</td>\n",
              "    </tr>\n",
              "    <tr>\n",
              "      <th>13</th>\n",
              "      <td>[32.0]</td>\n",
              "      <td>[32.0]</td>\n",
              "      <td>True</td>\n",
              "    </tr>\n",
              "    <tr>\n",
              "      <th>15</th>\n",
              "      <td>[102.0]</td>\n",
              "      <td>NaN</td>\n",
              "      <td>False</td>\n",
              "    </tr>\n",
              "    <tr>\n",
              "      <th>16</th>\n",
              "      <td>[77.0]</td>\n",
              "      <td>[77.0]</td>\n",
              "      <td>True</td>\n",
              "    </tr>\n",
              "    <tr>\n",
              "      <th>17</th>\n",
              "      <td>[77.0]</td>\n",
              "      <td>[77.0]</td>\n",
              "      <td>True</td>\n",
              "    </tr>\n",
              "    <tr>\n",
              "      <th>18</th>\n",
              "      <td>[32.0]</td>\n",
              "      <td>[32.0]</td>\n",
              "      <td>True</td>\n",
              "    </tr>\n",
              "    <tr>\n",
              "      <th>19</th>\n",
              "      <td>[32.0]</td>\n",
              "      <td>[32.0]</td>\n",
              "      <td>True</td>\n",
              "    </tr>\n",
              "    <tr>\n",
              "      <th>20</th>\n",
              "      <td>[32.0]</td>\n",
              "      <td>[32.0]</td>\n",
              "      <td>True</td>\n",
              "    </tr>\n",
              "    <tr>\n",
              "      <th>22</th>\n",
              "      <td>[32.0]</td>\n",
              "      <td>[32.0]</td>\n",
              "      <td>True</td>\n",
              "    </tr>\n",
              "    <tr>\n",
              "      <th>23</th>\n",
              "      <td>[32.0]</td>\n",
              "      <td>NaN</td>\n",
              "      <td>False</td>\n",
              "    </tr>\n",
              "    <tr>\n",
              "      <th>25</th>\n",
              "      <td>[32.0]</td>\n",
              "      <td>NaN</td>\n",
              "      <td>False</td>\n",
              "    </tr>\n",
              "    <tr>\n",
              "      <th>26</th>\n",
              "      <td>[502.0]</td>\n",
              "      <td>[502.0]</td>\n",
              "      <td>True</td>\n",
              "    </tr>\n",
              "    <tr>\n",
              "      <th>27</th>\n",
              "      <td>[52.0]</td>\n",
              "      <td>[52.0]</td>\n",
              "      <td>True</td>\n",
              "    </tr>\n",
              "    <tr>\n",
              "      <th>28</th>\n",
              "      <td>[77.0]</td>\n",
              "      <td>NaN</td>\n",
              "      <td>False</td>\n",
              "    </tr>\n",
              "    <tr>\n",
              "      <th>30</th>\n",
              "      <td>[75.0]</td>\n",
              "      <td>[75.0]</td>\n",
              "      <td>True</td>\n",
              "    </tr>\n",
              "    <tr>\n",
              "      <th>31</th>\n",
              "      <td>[75.0]</td>\n",
              "      <td>[75.0]</td>\n",
              "      <td>True</td>\n",
              "    </tr>\n",
              "    <tr>\n",
              "      <th>32</th>\n",
              "      <td>[40.0]</td>\n",
              "      <td>[40.0]</td>\n",
              "      <td>True</td>\n",
              "    </tr>\n",
              "    <tr>\n",
              "      <th>40</th>\n",
              "      <td>[502.0]</td>\n",
              "      <td>NaN</td>\n",
              "      <td>False</td>\n",
              "    </tr>\n",
              "    <tr>\n",
              "      <th>41</th>\n",
              "      <td>[252.0]</td>\n",
              "      <td>NaN</td>\n",
              "      <td>False</td>\n",
              "    </tr>\n",
              "    <tr>\n",
              "      <th>42</th>\n",
              "      <td>[252.0]</td>\n",
              "      <td>[252.0]</td>\n",
              "      <td>True</td>\n",
              "    </tr>\n",
              "    <tr>\n",
              "      <th>43</th>\n",
              "      <td>[252.0]</td>\n",
              "      <td>NaN</td>\n",
              "      <td>False</td>\n",
              "    </tr>\n",
              "    <tr>\n",
              "      <th>45</th>\n",
              "      <td>[252.0]</td>\n",
              "      <td>NaN</td>\n",
              "      <td>False</td>\n",
              "    </tr>\n",
              "    <tr>\n",
              "      <th>46</th>\n",
              "      <td>[252.0]</td>\n",
              "      <td>[252.0]</td>\n",
              "      <td>True</td>\n",
              "    </tr>\n",
              "    <tr>\n",
              "      <th>47</th>\n",
              "      <td>[127.0]</td>\n",
              "      <td>NaN</td>\n",
              "      <td>False</td>\n",
              "    </tr>\n",
              "    <tr>\n",
              "      <th>99</th>\n",
              "      <td>[32.0]</td>\n",
              "      <td>[32.0]</td>\n",
              "      <td>True</td>\n",
              "    </tr>\n",
              "  </tbody>\n",
              "</table>\n",
              "</div>"
            ],
            "text/plain": [
              "         ViolFine ViolFine_2020  IsSame\n",
              "ViolCode                               \n",
              "1         [302.0]       [302.0]    True\n",
              "2         [102.0]           NaN   False\n",
              "3         [102.0]       [102.0]    True\n",
              "4          [77.0]           NaN   False\n",
              "5          [77.0]        [77.0]    True\n",
              "6          [77.0]        [77.0]    True\n",
              "8          [52.0]        [52.0]    True\n",
              "9         [502.0]       [502.0]    True\n",
              "10        [252.0]       [252.0]    True\n",
              "11         [52.0]        [52.0]    True\n",
              "12         [32.0]        [32.0]    True\n",
              "13         [32.0]        [32.0]    True\n",
              "15        [102.0]           NaN   False\n",
              "16         [77.0]        [77.0]    True\n",
              "17         [77.0]        [77.0]    True\n",
              "18         [32.0]        [32.0]    True\n",
              "19         [32.0]        [32.0]    True\n",
              "20         [32.0]        [32.0]    True\n",
              "22         [32.0]        [32.0]    True\n",
              "23         [32.0]           NaN   False\n",
              "25         [32.0]           NaN   False\n",
              "26        [502.0]       [502.0]    True\n",
              "27         [52.0]        [52.0]    True\n",
              "28         [77.0]           NaN   False\n",
              "30         [75.0]        [75.0]    True\n",
              "31         [75.0]        [75.0]    True\n",
              "32         [40.0]        [40.0]    True\n",
              "40        [502.0]           NaN   False\n",
              "41        [252.0]           NaN   False\n",
              "42        [252.0]       [252.0]    True\n",
              "43        [252.0]           NaN   False\n",
              "45        [252.0]           NaN   False\n",
              "46        [252.0]       [252.0]    True\n",
              "47        [127.0]           NaN   False\n",
              "99         [32.0]        [32.0]    True"
            ]
          },
          "metadata": {
            "tags": []
          },
          "execution_count": 74
        }
      ]
    },
    {
      "cell_type": "markdown",
      "metadata": {
        "id": "Omno9RuG1RRm"
      },
      "source": [
        "Noticed no difference in Fine cost in April 2020 in comparison to April 2019."
      ]
    },
    {
      "cell_type": "code",
      "metadata": {
        "id": "X1Bd42uBzGIQ",
        "colab": {
          "base_uri": "https://localhost:8080/",
          "height": 394
        },
        "outputId": "fe296e59-3586-41a9-a258-f4d20c63d47a"
      },
      "source": [
        "data.head()"
      ],
      "execution_count": null,
      "outputs": [
        {
          "output_type": "execute_result",
          "data": {
            "text/html": [
              "<div>\n",
              "<style scoped>\n",
              "    .dataframe tbody tr th:only-of-type {\n",
              "        vertical-align: middle;\n",
              "    }\n",
              "\n",
              "    .dataframe tbody tr th {\n",
              "        vertical-align: top;\n",
              "    }\n",
              "\n",
              "    .dataframe thead th {\n",
              "        text-align: right;\n",
              "    }\n",
              "</style>\n",
              "<table border=\"1\" class=\"dataframe\">\n",
              "  <thead>\n",
              "    <tr style=\"text-align: right;\">\n",
              "      <th></th>\n",
              "      <th>Citation</th>\n",
              "      <th>Tag</th>\n",
              "      <th>ExpMM</th>\n",
              "      <th>ExpYY</th>\n",
              "      <th>State</th>\n",
              "      <th>Make</th>\n",
              "      <th>Address</th>\n",
              "      <th>ViolCode</th>\n",
              "      <th>Description</th>\n",
              "      <th>ViolFine</th>\n",
              "      <th>ViolDate</th>\n",
              "      <th>Balance</th>\n",
              "      <th>OpenFine</th>\n",
              "      <th>OpenPenalty</th>\n",
              "      <th>NoticeDate</th>\n",
              "      <th>GeneralStatus</th>\n",
              "      <th>GroupID</th>\n",
              "      <th>ImportDate</th>\n",
              "      <th>ViolDate_only</th>\n",
              "    </tr>\n",
              "  </thead>\n",
              "  <tbody>\n",
              "    <tr>\n",
              "      <th>425</th>\n",
              "      <td>32465602</td>\n",
              "      <td>8BH7595</td>\n",
              "      <td>04</td>\n",
              "      <td>21.0</td>\n",
              "      <td>MD</td>\n",
              "      <td>Toyota</td>\n",
              "      <td>1600 BLK E BELVEDERE AVE EB</td>\n",
              "      <td>32</td>\n",
              "      <td>Fixed Speed Camera</td>\n",
              "      <td>40.0</td>\n",
              "      <td>2020-04-16 16:39:00</td>\n",
              "      <td>0.0</td>\n",
              "      <td>0.0</td>\n",
              "      <td>0.0</td>\n",
              "      <td>05/20/2020</td>\n",
              "      <td>NaN</td>\n",
              "      <td>NaN</td>\n",
              "      <td>NaN</td>\n",
              "      <td>2020-04-16</td>\n",
              "    </tr>\n",
              "    <tr>\n",
              "      <th>426</th>\n",
              "      <td>32663784</td>\n",
              "      <td>1DM8806</td>\n",
              "      <td>10</td>\n",
              "      <td>20.0</td>\n",
              "      <td>MD</td>\n",
              "      <td>Nissan</td>\n",
              "      <td>600 BLK W NORTHERN PKWY WB</td>\n",
              "      <td>32</td>\n",
              "      <td>Fixed Speed Camera</td>\n",
              "      <td>40.0</td>\n",
              "      <td>2020-04-27 11:48:00</td>\n",
              "      <td>0.0</td>\n",
              "      <td>0.0</td>\n",
              "      <td>0.0</td>\n",
              "      <td>06/03/2020</td>\n",
              "      <td>NaN</td>\n",
              "      <td>NaN</td>\n",
              "      <td>NaN</td>\n",
              "      <td>2020-04-27</td>\n",
              "    </tr>\n",
              "    <tr>\n",
              "      <th>427</th>\n",
              "      <td>32740558</td>\n",
              "      <td>1DM8806</td>\n",
              "      <td>10</td>\n",
              "      <td>20.0</td>\n",
              "      <td>MD</td>\n",
              "      <td>Nissan</td>\n",
              "      <td>600 BLK W NORTHERN PKWY WB</td>\n",
              "      <td>32</td>\n",
              "      <td>Fixed Speed Camera</td>\n",
              "      <td>40.0</td>\n",
              "      <td>2020-04-29 18:44:00</td>\n",
              "      <td>0.0</td>\n",
              "      <td>0.0</td>\n",
              "      <td>0.0</td>\n",
              "      <td>06/03/2020</td>\n",
              "      <td>NaN</td>\n",
              "      <td>NaN</td>\n",
              "      <td>NaN</td>\n",
              "      <td>2020-04-29</td>\n",
              "    </tr>\n",
              "    <tr>\n",
              "      <th>859</th>\n",
              "      <td>5115119</td>\n",
              "      <td>5AM0281</td>\n",
              "      <td>01</td>\n",
              "      <td>20.0</td>\n",
              "      <td>MD</td>\n",
              "      <td>Volkswagen</td>\n",
              "      <td>O/S 500 BLK W 28TH ST</td>\n",
              "      <td>22</td>\n",
              "      <td>Expired Tags</td>\n",
              "      <td>32.0</td>\n",
              "      <td>2020-04-25 17:19:00</td>\n",
              "      <td>0.0</td>\n",
              "      <td>0.0</td>\n",
              "      <td>0.0</td>\n",
              "      <td>06/24/2020</td>\n",
              "      <td>NaN</td>\n",
              "      <td>NaN</td>\n",
              "      <td>NaN</td>\n",
              "      <td>2020-04-25</td>\n",
              "    </tr>\n",
              "    <tr>\n",
              "      <th>1082</th>\n",
              "      <td>5325841</td>\n",
              "      <td>9BH1353</td>\n",
              "      <td>03</td>\n",
              "      <td>20.0</td>\n",
              "      <td>MD</td>\n",
              "      <td>Nissan</td>\n",
              "      <td>S/ 3329 LYNDALE</td>\n",
              "      <td>22</td>\n",
              "      <td>Expired Tags</td>\n",
              "      <td>32.0</td>\n",
              "      <td>2020-04-16 10:08:00</td>\n",
              "      <td>0.0</td>\n",
              "      <td>0.0</td>\n",
              "      <td>0.0</td>\n",
              "      <td>05/20/2020</td>\n",
              "      <td>NaN</td>\n",
              "      <td>NaN</td>\n",
              "      <td>NaN</td>\n",
              "      <td>2020-04-16</td>\n",
              "    </tr>\n",
              "  </tbody>\n",
              "</table>\n",
              "</div>"
            ],
            "text/plain": [
              "      Citation      Tag ExpMM  ...  GroupID ImportDate ViolDate_only\n",
              "425   32465602  8BH7595    04  ...      NaN        NaN    2020-04-16\n",
              "426   32663784  1DM8806    10  ...      NaN        NaN    2020-04-27\n",
              "427   32740558  1DM8806    10  ...      NaN        NaN    2020-04-29\n",
              "859    5115119  5AM0281    01  ...      NaN        NaN    2020-04-25\n",
              "1082   5325841  9BH1353    03  ...      NaN        NaN    2020-04-16\n",
              "\n",
              "[5 rows x 19 columns]"
            ]
          },
          "metadata": {
            "tags": []
          },
          "execution_count": 75
        }
      ]
    },
    {
      "cell_type": "markdown",
      "metadata": {
        "id": "74EvXkvp2IbH"
      },
      "source": [
        "### In what hour of the day are maximum violations reported?"
      ]
    },
    {
      "cell_type": "code",
      "metadata": {
        "id": "7LdAAeRD2NJP"
      },
      "source": [
        "data[\"Hour\"] = data[\"ViolDate\"].dt.hour"
      ],
      "execution_count": null,
      "outputs": []
    },
    {
      "cell_type": "code",
      "metadata": {
        "id": "6jh6Ok-hzGRE",
        "colab": {
          "base_uri": "https://localhost:8080/",
          "height": 295
        },
        "outputId": "f4a52d20-2716-4975-d19b-71b5dc5f454d"
      },
      "source": [
        "sns.lineplot(x=data[\"Hour\"].value_counts().index,y=data[\"Hour\"].value_counts().values,label=\"April 2019 & 2020\")\n",
        "sns.lineplot(x=data[data[\"ViolDate\"].dt.year==2019][\"Hour\"].value_counts().index,y=data[data[\"ViolDate\"].dt.year==2019][\"Hour\"].value_counts().values,label=\"2019\")\n",
        "sns.lineplot(x=data[data[\"ViolDate\"].dt.year==2020][\"Hour\"].value_counts().index,y=data[data[\"ViolDate\"].dt.year==2020][\"Hour\"].value_counts().values,label=\"2020\")\n",
        "plt.legend(bbox_to_anchor=(1,0.75))\n",
        "plt.title(\"Count of violations during various hours of day\")\n",
        "plt.xlabel(\"Hours of day\")\n",
        "plt.ylabel(\"Violations count\")\n",
        "plt.show()"
      ],
      "execution_count": null,
      "outputs": [
        {
          "output_type": "display_data",
          "data": {
            "image/png": "[encoded data removed]",
            "text/plain": [
              "<Figure size 432x288 with 1 Axes>"
            ]
          },
          "metadata": {
            "tags": [],
            "needs_background": "light"
          }
        }
      ]
    },
    {
      "cell_type": "markdown",
      "metadata": {
        "id": "w8HCJjIG86Pu"
      },
      "source": [
        "From the above visualization, one can observe that most of the violations happen between 8 AM to 7 PM\n",
        "\n",
        "In April, 2019 more violations happened during morning hours and drops by 2 PM. However, April, 2020 more violations happened in the evening hours 3 PM - 7 PM."
      ]
    },
    {
      "cell_type": "markdown",
      "metadata": {
        "id": "8Zs8S_l22pIm"
      },
      "source": [
        "#### Analysing the distribution of period from violation reported and the date the notice is issued?"
      ]
    },
    {
      "cell_type": "code",
      "metadata": {
        "id": "AYbm5Pb58a-x"
      },
      "source": [
        "#Converting Notice Date to a datetime type\n",
        "data[\"NoticeDate\"] = pd.to_datetime(data[\"NoticeDate\"])"
      ],
      "execution_count": null,
      "outputs": []
    },
    {
      "cell_type": "code",
      "metadata": {
        "id": "tKZDJhIc2yGz"
      },
      "source": [
        "data[\"Period_between_viol_notice\"] = data[\"NoticeDate\"] - data[\"ViolDate_only\"]"
      ],
      "execution_count": null,
      "outputs": []
    },
    {
      "cell_type": "code",
      "metadata": {
        "id": "49lZhGlT3v0n",
        "colab": {
          "base_uri": "https://localhost:8080/",
          "height": 400
        },
        "outputId": "dbc0a5ab-487a-44cb-a8f8-bab7860faaac"
      },
      "source": [
        "plt.figure(figsize=(20,6))\n",
        "sns.boxplot(y=data[\"Period_between_viol_notice\"].dt.days,x=data[\"ViolCode\"])\n",
        "plt.title(\"Distribution of the lag between violation date and notice issual date for various violation types\")\n",
        "plt.xlabel(\"Violation code\")\n",
        "plt.ylabel(\"Days between the violation date and  notice date\")\n",
        "plt.show()"
      ],
      "execution_count": null,
      "outputs": [
        {
          "output_type": "display_data",
          "data": {
            "image/png": "[encoded data removed]",
            "text/plain": [
              "<Figure size 1440x432 with 1 Axes>"
            ]
          },
          "metadata": {
            "tags": [],
            "needs_background": "light"
          }
        }
      ]
    },
    {
      "cell_type": "code",
      "metadata": {
        "id": "k1ihjzT25S0i",
        "colab": {
          "base_uri": "https://localhost:8080/",
          "height": 538
        },
        "outputId": "d193acb7-722f-407e-cee2-d480d93d7bb0"
      },
      "source": [
        "data.groupby(\"ViolCode\")[\"Period_between_viol_notice\"].describe().transpose()"
      ],
      "execution_count": null,
      "outputs": [
        {
          "output_type": "execute_result",
          "data": {
            "text/html": [
              "<div>\n",
              "<style scoped>\n",
              "    .dataframe tbody tr th:only-of-type {\n",
              "        vertical-align: middle;\n",
              "    }\n",
              "\n",
              "    .dataframe tbody tr th {\n",
              "        vertical-align: top;\n",
              "    }\n",
              "\n",
              "    .dataframe thead th {\n",
              "        text-align: right;\n",
              "    }\n",
              "</style>\n",
              "<table border=\"1\" class=\"dataframe\">\n",
              "  <thead>\n",
              "    <tr style=\"text-align: right;\">\n",
              "      <th>ViolCode</th>\n",
              "      <th>1</th>\n",
              "      <th>2</th>\n",
              "      <th>3</th>\n",
              "      <th>4</th>\n",
              "      <th>5</th>\n",
              "      <th>6</th>\n",
              "      <th>8</th>\n",
              "      <th>9</th>\n",
              "      <th>10</th>\n",
              "      <th>11</th>\n",
              "      <th>12</th>\n",
              "      <th>13</th>\n",
              "      <th>15</th>\n",
              "      <th>16</th>\n",
              "      <th>17</th>\n",
              "      <th>18</th>\n",
              "      <th>19</th>\n",
              "      <th>20</th>\n",
              "      <th>22</th>\n",
              "      <th>23</th>\n",
              "      <th>25</th>\n",
              "      <th>26</th>\n",
              "      <th>27</th>\n",
              "      <th>28</th>\n",
              "      <th>30</th>\n",
              "      <th>31</th>\n",
              "      <th>32</th>\n",
              "      <th>40</th>\n",
              "      <th>41</th>\n",
              "      <th>42</th>\n",
              "      <th>43</th>\n",
              "      <th>44</th>\n",
              "      <th>45</th>\n",
              "      <th>46</th>\n",
              "      <th>47</th>\n",
              "      <th>52</th>\n",
              "      <th>99</th>\n",
              "    </tr>\n",
              "  </thead>\n",
              "  <tbody>\n",
              "    <tr>\n",
              "      <th>count</th>\n",
              "      <td>142</td>\n",
              "      <td>1</td>\n",
              "      <td>135</td>\n",
              "      <td>0</td>\n",
              "      <td>351</td>\n",
              "      <td>87</td>\n",
              "      <td>1535</td>\n",
              "      <td>10</td>\n",
              "      <td>62</td>\n",
              "      <td>980</td>\n",
              "      <td>2569</td>\n",
              "      <td>24</td>\n",
              "      <td>256</td>\n",
              "      <td>34</td>\n",
              "      <td>257</td>\n",
              "      <td>4987</td>\n",
              "      <td>133</td>\n",
              "      <td>161</td>\n",
              "      <td>2521</td>\n",
              "      <td>2</td>\n",
              "      <td>1</td>\n",
              "      <td>126</td>\n",
              "      <td>2735</td>\n",
              "      <td>2</td>\n",
              "      <td>11811</td>\n",
              "      <td>12527</td>\n",
              "      <td>51647</td>\n",
              "      <td>0</td>\n",
              "      <td>8</td>\n",
              "      <td>8</td>\n",
              "      <td>53</td>\n",
              "      <td>1</td>\n",
              "      <td>0</td>\n",
              "      <td>467</td>\n",
              "      <td>40</td>\n",
              "      <td>1</td>\n",
              "      <td>692</td>\n",
              "    </tr>\n",
              "    <tr>\n",
              "      <th>mean</th>\n",
              "      <td>57 days 20:27:02.535211268</td>\n",
              "      <td>55 days 00:00:00</td>\n",
              "      <td>63 days 01:36:00</td>\n",
              "      <td>NaT</td>\n",
              "      <td>55 days 04:26:40</td>\n",
              "      <td>67 days 08:33:06.206896552</td>\n",
              "      <td>60 days 12:02:20.716612378</td>\n",
              "      <td>121 days 02:24:00</td>\n",
              "      <td>81 days 08:54:11.612903226</td>\n",
              "      <td>61 days 10:02:26.938775510</td>\n",
              "      <td>54 days 02:10:36.200856364</td>\n",
              "      <td>63 days 14:00:00</td>\n",
              "      <td>61 days 10:41:15</td>\n",
              "      <td>65 days 07:45:52.941176471</td>\n",
              "      <td>55 days 17:10:58.365758755</td>\n",
              "      <td>59 days 23:47:00.372969721</td>\n",
              "      <td>72 days 14:47:49.172932331</td>\n",
              "      <td>57 days 22:57:23.478260870</td>\n",
              "      <td>47 days 19:00:41.412138040</td>\n",
              "      <td>38 days 00:00:00</td>\n",
              "      <td>71 days 00:00:00</td>\n",
              "      <td>73 days 07:02:51.428571429</td>\n",
              "      <td>61 days 01:56:53.089579525</td>\n",
              "      <td>52 days 00:00:00</td>\n",
              "      <td>57 days 07:29:45.826771654</td>\n",
              "      <td>53 days 13:10:17.578031452</td>\n",
              "      <td>48 days 19:10:11.930993087</td>\n",
              "      <td>NaT</td>\n",
              "      <td>56 days 06:00:00</td>\n",
              "      <td>98 days 00:00:00</td>\n",
              "      <td>39 days 18:06:47.547169811</td>\n",
              "      <td>143 days 00:00:00</td>\n",
              "      <td>NaT</td>\n",
              "      <td>58 days 22:18:14.646680942</td>\n",
              "      <td>65 days 08:24:00</td>\n",
              "      <td>199 days 00:00:00</td>\n",
              "      <td>81 days 11:12:08.323699422</td>\n",
              "    </tr>\n",
              "    <tr>\n",
              "      <th>std</th>\n",
              "      <td>40 days 12:36:22.917154050</td>\n",
              "      <td>NaT</td>\n",
              "      <td>59 days 16:02:17.838564156</td>\n",
              "      <td>NaT</td>\n",
              "      <td>45 days 21:32:01.910064298</td>\n",
              "      <td>46 days 14:13:32.518674048</td>\n",
              "      <td>49 days 06:54:53.995349274</td>\n",
              "      <td>49 days 11:54:35.139177124</td>\n",
              "      <td>56 days 01:48:47.039655760</td>\n",
              "      <td>44 days 20:01:14.087733551</td>\n",
              "      <td>44 days 21:43:21.399815040</td>\n",
              "      <td>39 days 22:13:20.161329350</td>\n",
              "      <td>47 days 12:51:47.028210547</td>\n",
              "      <td>47 days 05:26:13.624918493</td>\n",
              "      <td>53 days 04:27:57.101055646</td>\n",
              "      <td>42 days 22:54:55.927524869</td>\n",
              "      <td>63 days 11:13:07.535383123</td>\n",
              "      <td>38 days 16:37:20.141001574</td>\n",
              "      <td>31 days 14:22:55.922118010</td>\n",
              "      <td>24 days 00:59:56.880413602</td>\n",
              "      <td>NaT</td>\n",
              "      <td>59 days 23:12:34.556225586</td>\n",
              "      <td>44 days 22:39:35.229144090</td>\n",
              "      <td>50 days 21:52:49.864405275</td>\n",
              "      <td>20 days 04:44:53.181383458</td>\n",
              "      <td>20 days 18:08:14.904750889</td>\n",
              "      <td>20 days 19:34:39.573922819</td>\n",
              "      <td>NaT</td>\n",
              "      <td>17 days 05:51:25.625523938</td>\n",
              "      <td>74 days 12:50:02.176198538</td>\n",
              "      <td>30 days 05:44:41.497254457</td>\n",
              "      <td>NaT</td>\n",
              "      <td>NaT</td>\n",
              "      <td>50 days 18:17:00.159203619</td>\n",
              "      <td>33 days 21:30:30.287773030</td>\n",
              "      <td>NaT</td>\n",
              "      <td>59 days 20:01:03.779661043</td>\n",
              "    </tr>\n",
              "    <tr>\n",
              "      <th>min</th>\n",
              "      <td>16 days 00:00:00</td>\n",
              "      <td>55 days 00:00:00</td>\n",
              "      <td>16 days 00:00:00</td>\n",
              "      <td>NaT</td>\n",
              "      <td>16 days 00:00:00</td>\n",
              "      <td>16 days 00:00:00</td>\n",
              "      <td>16 days 00:00:00</td>\n",
              "      <td>54 days 00:00:00</td>\n",
              "      <td>16 days 00:00:00</td>\n",
              "      <td>16 days 00:00:00</td>\n",
              "      <td>16 days 00:00:00</td>\n",
              "      <td>16 days 00:00:00</td>\n",
              "      <td>16 days 00:00:00</td>\n",
              "      <td>16 days 00:00:00</td>\n",
              "      <td>16 days 00:00:00</td>\n",
              "      <td>16 days 00:00:00</td>\n",
              "      <td>16 days 00:00:00</td>\n",
              "      <td>16 days 00:00:00</td>\n",
              "      <td>16 days 00:00:00</td>\n",
              "      <td>21 days 00:00:00</td>\n",
              "      <td>71 days 00:00:00</td>\n",
              "      <td>16 days 00:00:00</td>\n",
              "      <td>16 days 00:00:00</td>\n",
              "      <td>16 days 00:00:00</td>\n",
              "      <td>27 days 00:00:00</td>\n",
              "      <td>27 days 00:00:00</td>\n",
              "      <td>27 days 00:00:00</td>\n",
              "      <td>NaT</td>\n",
              "      <td>16 days 00:00:00</td>\n",
              "      <td>20 days 00:00:00</td>\n",
              "      <td>16 days 00:00:00</td>\n",
              "      <td>143 days 00:00:00</td>\n",
              "      <td>NaT</td>\n",
              "      <td>16 days 00:00:00</td>\n",
              "      <td>16 days 00:00:00</td>\n",
              "      <td>199 days 00:00:00</td>\n",
              "      <td>16 days 00:00:00</td>\n",
              "    </tr>\n",
              "    <tr>\n",
              "      <th>25%</th>\n",
              "      <td>21 days 00:00:00</td>\n",
              "      <td>55 days 00:00:00</td>\n",
              "      <td>21 days 00:00:00</td>\n",
              "      <td>NaT</td>\n",
              "      <td>20 days 00:00:00</td>\n",
              "      <td>31 days 12:00:00</td>\n",
              "      <td>21 days 00:00:00</td>\n",
              "      <td>67 days 00:00:00</td>\n",
              "      <td>51 days 18:00:00</td>\n",
              "      <td>23 days 00:00:00</td>\n",
              "      <td>21 days 00:00:00</td>\n",
              "      <td>28 days 12:00:00</td>\n",
              "      <td>20 days 00:00:00</td>\n",
              "      <td>23 days 18:00:00</td>\n",
              "      <td>20 days 00:00:00</td>\n",
              "      <td>23 days 00:00:00</td>\n",
              "      <td>21 days 00:00:00</td>\n",
              "      <td>22 days 00:00:00</td>\n",
              "      <td>21 days 00:00:00</td>\n",
              "      <td>29 days 12:00:00</td>\n",
              "      <td>71 days 00:00:00</td>\n",
              "      <td>24 days 18:00:00</td>\n",
              "      <td>23 days 00:00:00</td>\n",
              "      <td>34 days 00:00:00</td>\n",
              "      <td>41 days 00:00:00</td>\n",
              "      <td>38 days 00:00:00</td>\n",
              "      <td>34 days 00:00:00</td>\n",
              "      <td>NaT</td>\n",
              "      <td>54 days 18:00:00</td>\n",
              "      <td>64 days 18:00:00</td>\n",
              "      <td>20 days 00:00:00</td>\n",
              "      <td>143 days 00:00:00</td>\n",
              "      <td>NaT</td>\n",
              "      <td>21 days 00:00:00</td>\n",
              "      <td>51 days 00:00:00</td>\n",
              "      <td>199 days 00:00:00</td>\n",
              "      <td>28 days 00:00:00</td>\n",
              "    </tr>\n",
              "    <tr>\n",
              "      <th>50%</th>\n",
              "      <td>58 days 00:00:00</td>\n",
              "      <td>55 days 00:00:00</td>\n",
              "      <td>51 days 00:00:00</td>\n",
              "      <td>NaT</td>\n",
              "      <td>52 days 00:00:00</td>\n",
              "      <td>65 days 00:00:00</td>\n",
              "      <td>54 days 00:00:00</td>\n",
              "      <td>154 days 12:00:00</td>\n",
              "      <td>64 days 00:00:00</td>\n",
              "      <td>56 days 00:00:00</td>\n",
              "      <td>50 days 00:00:00</td>\n",
              "      <td>61 days 00:00:00</td>\n",
              "      <td>64 days 00:00:00</td>\n",
              "      <td>67 days 00:00:00</td>\n",
              "      <td>50 days 00:00:00</td>\n",
              "      <td>57 days 00:00:00</td>\n",
              "      <td>58 days 00:00:00</td>\n",
              "      <td>56 days 00:00:00</td>\n",
              "      <td>51 days 00:00:00</td>\n",
              "      <td>38 days 00:00:00</td>\n",
              "      <td>71 days 00:00:00</td>\n",
              "      <td>61 days 12:00:00</td>\n",
              "      <td>58 days 00:00:00</td>\n",
              "      <td>52 days 00:00:00</td>\n",
              "      <td>61 days 00:00:00</td>\n",
              "      <td>57 days 00:00:00</td>\n",
              "      <td>41 days 00:00:00</td>\n",
              "      <td>NaT</td>\n",
              "      <td>61 days 12:00:00</td>\n",
              "      <td>69 days 12:00:00</td>\n",
              "      <td>22 days 00:00:00</td>\n",
              "      <td>143 days 00:00:00</td>\n",
              "      <td>NaT</td>\n",
              "      <td>52 days 00:00:00</td>\n",
              "      <td>57 days 00:00:00</td>\n",
              "      <td>199 days 00:00:00</td>\n",
              "      <td>64 days 00:00:00</td>\n",
              "    </tr>\n",
              "    <tr>\n",
              "      <th>75%</th>\n",
              "      <td>68 days 00:00:00</td>\n",
              "      <td>55 days 00:00:00</td>\n",
              "      <td>71 days 12:00:00</td>\n",
              "      <td>NaT</td>\n",
              "      <td>66 days 00:00:00</td>\n",
              "      <td>74 days 00:00:00</td>\n",
              "      <td>69 days 00:00:00</td>\n",
              "      <td>157 days 00:00:00</td>\n",
              "      <td>104 days 18:00:00</td>\n",
              "      <td>68 days 06:00:00</td>\n",
              "      <td>67 days 00:00:00</td>\n",
              "      <td>80 days 18:00:00</td>\n",
              "      <td>67 days 12:00:00</td>\n",
              "      <td>78 days 18:00:00</td>\n",
              "      <td>68 days 00:00:00</td>\n",
              "      <td>68 days 00:00:00</td>\n",
              "      <td>70 days 00:00:00</td>\n",
              "      <td>68 days 00:00:00</td>\n",
              "      <td>65 days 00:00:00</td>\n",
              "      <td>46 days 12:00:00</td>\n",
              "      <td>71 days 00:00:00</td>\n",
              "      <td>85 days 00:00:00</td>\n",
              "      <td>69 days 00:00:00</td>\n",
              "      <td>70 days 00:00:00</td>\n",
              "      <td>68 days 00:00:00</td>\n",
              "      <td>66 days 00:00:00</td>\n",
              "      <td>63 days 00:00:00</td>\n",
              "      <td>NaT</td>\n",
              "      <td>65 days 00:00:00</td>\n",
              "      <td>98 days 12:00:00</td>\n",
              "      <td>69 days 00:00:00</td>\n",
              "      <td>143 days 00:00:00</td>\n",
              "      <td>NaT</td>\n",
              "      <td>68 days 00:00:00</td>\n",
              "      <td>65 days 00:00:00</td>\n",
              "      <td>199 days 00:00:00</td>\n",
              "      <td>156 days 00:00:00</td>\n",
              "    </tr>\n",
              "    <tr>\n",
              "      <th>max</th>\n",
              "      <td>210 days 00:00:00</td>\n",
              "      <td>55 days 00:00:00</td>\n",
              "      <td>489 days 00:00:00</td>\n",
              "      <td>NaT</td>\n",
              "      <td>261 days 00:00:00</td>\n",
              "      <td>296 days 00:00:00</td>\n",
              "      <td>503 days 00:00:00</td>\n",
              "      <td>169 days 00:00:00</td>\n",
              "      <td>261 days 00:00:00</td>\n",
              "      <td>486 days 00:00:00</td>\n",
              "      <td>477 days 00:00:00</td>\n",
              "      <td>163 days 00:00:00</td>\n",
              "      <td>198 days 00:00:00</td>\n",
              "      <td>174 days 00:00:00</td>\n",
              "      <td>559 days 00:00:00</td>\n",
              "      <td>469 days 00:00:00</td>\n",
              "      <td>492 days 00:00:00</td>\n",
              "      <td>182 days 00:00:00</td>\n",
              "      <td>467 days 00:00:00</td>\n",
              "      <td>55 days 00:00:00</td>\n",
              "      <td>71 days 00:00:00</td>\n",
              "      <td>322 days 00:00:00</td>\n",
              "      <td>498 days 00:00:00</td>\n",
              "      <td>88 days 00:00:00</td>\n",
              "      <td>539 days 00:00:00</td>\n",
              "      <td>574 days 00:00:00</td>\n",
              "      <td>568 days 00:00:00</td>\n",
              "      <td>NaT</td>\n",
              "      <td>70 days 00:00:00</td>\n",
              "      <td>244 days 00:00:00</td>\n",
              "      <td>173 days 00:00:00</td>\n",
              "      <td>143 days 00:00:00</td>\n",
              "      <td>NaT</td>\n",
              "      <td>512 days 00:00:00</td>\n",
              "      <td>173 days 00:00:00</td>\n",
              "      <td>199 days 00:00:00</td>\n",
              "      <td>281 days 00:00:00</td>\n",
              "    </tr>\n",
              "  </tbody>\n",
              "</table>\n",
              "</div>"
            ],
            "text/plain": [
              "ViolCode                          1   ...                          99\n",
              "count                            142  ...                         692\n",
              "mean      57 days 20:27:02.535211268  ...  81 days 11:12:08.323699422\n",
              "std       40 days 12:36:22.917154050  ...  59 days 20:01:03.779661043\n",
              "min                 16 days 00:00:00  ...            16 days 00:00:00\n",
              "25%                 21 days 00:00:00  ...            28 days 00:00:00\n",
              "50%                 58 days 00:00:00  ...            64 days 00:00:00\n",
              "75%                 68 days 00:00:00  ...           156 days 00:00:00\n",
              "max                210 days 00:00:00  ...           281 days 00:00:00\n",
              "\n",
              "[8 rows x 37 columns]"
            ]
          },
          "metadata": {
            "tags": []
          },
          "execution_count": 81
        }
      ]
    },
    {
      "cell_type": "markdown",
      "metadata": {
        "id": "9pELL2g85xI3"
      },
      "source": [
        "From the above visualization, noticed that the violations such as \n",
        "\n",
        "18: 'All Other Parking Meter Violations', 30: 'Red Light Violation', \n",
        " 31: 'Right on Red', \n",
        " 32: 'Fixed Speed Camera'  \n",
        " \n",
        " are having a lot of outliers as extreme as 574 days ie., violation notice is rolled out nearly 19 months after the violation"
      ]
    },
    {
      "cell_type": "code",
      "metadata": {
        "id": "DHA7-P_Q4s9U",
        "colab": {
          "base_uri": "https://localhost:8080/"
        },
        "outputId": "bb01989d-d6d2-4f55-cd11-6833fccbaf44"
      },
      "source": [
        "print(\"Violation code description for reference: \")\n",
        "dict_viol_description"
      ],
      "execution_count": null,
      "outputs": [
        {
          "output_type": "stream",
          "text": [
            "Violation code description for reference: \n"
          ],
          "name": "stdout"
        },
        {
          "output_type": "execute_result",
          "data": {
            "text/plain": [
              "{1: 'Abandonded Vehicle',\n",
              " 2: 'No Stopping or No Parking Pimlico Event',\n",
              " 3: 'Obstruct/Impeding Flow of Traffic',\n",
              " 4: 'Snow Emergency Route Violation',\n",
              " 5: 'Obstruct/Impeding Movement of Pedestrian',\n",
              " 6: 'Fire Lane/Handicapped Violation',\n",
              " 8: 'No Stopping/Standing Tow Away Zone',\n",
              " 9: 'Commercial Veh/Residence over 20,000 lbs',\n",
              " 10: 'Commercial Veh/Residence under 20,000 lbs',\n",
              " 11: 'Residential Parking Permit Only',\n",
              " 12: 'No Stopping/Standing Not Tow-Away Zone',\n",
              " 13: 'Blocking Garage or Driveway',\n",
              " 15: 'No Stopping//Parking Stadium Event Camden',\n",
              " 16: 'No Parking/Standing In Transit Stop',\n",
              " 17: 'Less Than 15 feet from Fire Hydrant',\n",
              " 18: 'All Other Parking Meter Violations',\n",
              " 19: 'Exceeding 48 Hours',\n",
              " 20: 'Passenger Loading Zone',\n",
              " 22: 'Expired Tags',\n",
              " 23: 'In Taxicab Stand',\n",
              " 25: 'Less 30’ from Intersection',\n",
              " 26: 'No Stop/Park Handicap',\n",
              " 27: 'No Stop/Park Street Cleaning',\n",
              " 28: 'No Stop/Stand/Park Cruising',\n",
              " 30: 'Red Light Violation',\n",
              " 31: 'Right on Red',\n",
              " 32: 'Fixed Speed Camera',\n",
              " 40: 'Unlawful Dumping/Waste Hauler w/o Permit',\n",
              " 41: 'No Parking/Standing In Bike Lanes',\n",
              " 42: 'Commercial Vehicle Obstruct/Imped Traffic Flow',\n",
              " 43: 'Obstructing/Imped Traffic Xwalk/inter/school',\n",
              " 44: 'No Parking/Standing Vendor Truck',\n",
              " 45: 'No Parking/Stand Motor Home/Campr/Travel Trailer',\n",
              " 46: 'No Parking/Standing In Bus Stop/Bus Lane',\n",
              " 47: 'Obstructing or Impeding Traffic in an Intersection or Crosswalk',\n",
              " 52: 'Res. Park Permit 4th Offense',\n",
              " 99: 'All Other Stopping or Parking Violations'}"
            ]
          },
          "metadata": {
            "tags": []
          },
          "execution_count": 82
        }
      ]
    },
    {
      "cell_type": "markdown",
      "metadata": {
        "id": "h6PAH4xtfdCm"
      },
      "source": [
        "## Is there a drop in violations in April, 2020 due to lockdown?"
      ]
    },
    {
      "cell_type": "code",
      "metadata": {
        "id": "4r1fiYzZfbvG",
        "colab": {
          "base_uri": "https://localhost:8080/"
        },
        "outputId": "c5ceff5b-bb7d-4c29-9155-58e5e4ed378f"
      },
      "source": [
        "print(\"Violations reported in April, 2019: \",data[data[\"ViolDate\"].dt.year == 2019][\"Citation\"].count())"
      ],
      "execution_count": null,
      "outputs": [
        {
          "output_type": "stream",
          "text": [
            "Violations reported in April, 2019:  96532\n"
          ],
          "name": "stdout"
        }
      ]
    },
    {
      "cell_type": "code",
      "metadata": {
        "id": "6TDlWQ0bfhAw",
        "colab": {
          "base_uri": "https://localhost:8080/"
        },
        "outputId": "271184d2-2e83-434f-ab9d-0c668d407f74"
      },
      "source": [
        "print(\"Violations reported in April, 2020: \",data[data[\"ViolDate\"].dt.year == 2020][\"Citation\"].count())"
      ],
      "execution_count": null,
      "outputs": [
        {
          "output_type": "stream",
          "text": [
            "Violations reported in April, 2020:  80516\n"
          ],
          "name": "stdout"
        }
      ]
    },
    {
      "cell_type": "code",
      "metadata": {
        "id": "FFrnNEA0fjGk",
        "colab": {
          "base_uri": "https://localhost:8080/",
          "height": 281
        },
        "outputId": "0166cda4-3aba-4a8b-d350-0737281abe7a"
      },
      "source": [
        "plt.bar(color=[\"purple\",\"blue\"],height=[data[data[\"ViolDate\"].dt.year == 2019][\"Citation\"].count(),data[data[\"ViolDate\"].dt.year == 2020][\"Citation\"].count()],x=[0,2])\n",
        "plt.xticks(ticks=[0,2],labels=[2019,2020])\n",
        "plt.ylabel(\"Violations count\")\n",
        "plt.title(\" Total Violations reported in the month of April\")\n",
        "plt.show()\n"
      ],
      "execution_count": null,
      "outputs": [
        {
          "output_type": "display_data",
          "data": {
            "image/png": "[encoded data removed]",
            "text/plain": [
              "<Figure size 432x288 with 1 Axes>"
            ]
          },
          "metadata": {
            "tags": [],
            "needs_background": "light"
          }
        }
      ]
    },
    {
      "cell_type": "code",
      "metadata": {
        "id": "PDzkNMP2flYx",
        "colab": {
          "base_uri": "https://localhost:8080/"
        },
        "outputId": "eb2fead7-a3bc-412b-c2b3-8b3208e43c08"
      },
      "source": [
        "drop = abs((data[data[\"ViolDate\"].dt.year == 2020][\"Citation\"].count() - data[data[\"ViolDate\"].dt.year == 2019][\"Citation\"].count())/data[data[\"ViolDate\"].dt.year == 2019][\"Citation\"].count())\n",
        "print(\"Noticed a drop of percentage : \", round(drop*100,2), \"% in April 2020 than April 2019\" )"
      ],
      "execution_count": null,
      "outputs": [
        {
          "output_type": "stream",
          "text": [
            "Noticed a drop of percentage :  16.59 % in April 2020 than April 2019\n"
          ],
          "name": "stdout"
        }
      ]
    },
    {
      "cell_type": "code",
      "metadata": {
        "id": "rRM0dUHa2ewv"
      },
      "source": [
        ""
      ],
      "execution_count": null,
      "outputs": []
    },
    {
      "cell_type": "markdown",
      "metadata": {
        "id": "LrS0wdgqpf8P"
      },
      "source": [
        "## Statistical Analysis - Hypothesis testing\n",
        "\n",
        "### Does vehicle's state have a relation with type of violation committed?\n",
        "\n",
        "As both State and Violation code are categorical variables, we need to use chi-squared test.\n",
        "\n",
        "Null hypothesis: There is no relation between State and te Violation codes (Violation types)\n",
        "\n",
        "Alternate hypothesis: There is relation between state the vehicle is registered and the violation types committed.\n",
        "\n",
        "alpha level = 0.05"
      ]
    },
    {
      "cell_type": "code",
      "metadata": {
        "id": "rmP8YnL1eOmp",
        "colab": {
          "base_uri": "https://localhost:8080/"
        },
        "outputId": "4a708536-8929-47dc-ef63-154a48a6f148"
      },
      "source": [
        "! pip install researchpy\n",
        "import researchpy"
      ],
      "execution_count": null,
      "outputs": [
        {
          "output_type": "stream",
          "text": [
            "Collecting researchpy\n",
            "  Downloading https://files.pythonhosted.org/packages/4b/a3/b16ea25a5416f7c35824b2fc3ee1cdc9f9d8ab6d9fc4119679504d43b8a8/researchpy-0.2.3-py3-none-any.whl\n",
            "Requirement already satisfied: pandas in /usr/local/lib/python3.6/dist-packages (from researchpy) (1.1.4)\n",
            "Requirement already satisfied: scipy in /usr/local/lib/python3.6/dist-packages (from researchpy) (1.4.1)\n",
            "Requirement already satisfied: statsmodels in /usr/local/lib/python3.6/dist-packages (from researchpy) (0.10.2)\n",
            "Requirement already satisfied: numpy in /usr/local/lib/python3.6/dist-packages (from researchpy) (1.18.5)\n",
            "Requirement already satisfied: pytz>=2017.2 in /usr/local/lib/python3.6/dist-packages (from pandas->researchpy) (2018.9)\n",
            "Requirement already satisfied: python-dateutil>=2.7.3 in /usr/local/lib/python3.6/dist-packages (from pandas->researchpy) (2.8.1)\n",
            "Requirement already satisfied: patsy>=0.4.0 in /usr/local/lib/python3.6/dist-packages (from statsmodels->researchpy) (0.5.1)\n",
            "Requirement already satisfied: six>=1.5 in /usr/local/lib/python3.6/dist-packages (from python-dateutil>=2.7.3->pandas->researchpy) (1.15.0)\n",
            "Installing collected packages: researchpy\n",
            "Successfully installed researchpy-0.2.3\n"
          ],
          "name": "stdout"
        },
        {
          "output_type": "stream",
          "text": [
            "/usr/local/lib/python3.6/dist-packages/statsmodels/tools/_testing.py:19: FutureWarning: pandas.util.testing is deprecated. Use the functions in the public API at pandas.testing instead.\n",
            "  import pandas.util.testing as tm\n"
          ],
          "name": "stderr"
        }
      ]
    },
    {
      "cell_type": "code",
      "metadata": {
        "id": "c7iOnwkXqXqm",
        "colab": {
          "base_uri": "https://localhost:8080/"
        },
        "outputId": "a2174b45-fc36-449f-9beb-cea1892ade1d"
      },
      "source": [
        "data.columns"
      ],
      "execution_count": null,
      "outputs": [
        {
          "output_type": "execute_result",
          "data": {
            "text/plain": [
              "Index(['Citation', 'Tag', 'ExpMM', 'ExpYY', 'State', 'Make', 'Address',\n",
              "       'ViolCode', 'Description', 'ViolFine', 'ViolDate', 'Balance',\n",
              "       'OpenFine', 'OpenPenalty', 'NoticeDate', 'GeneralStatus', 'GroupID',\n",
              "       'ImportDate', 'ViolDate_only', 'Hour', 'Period_between_viol_notice'],\n",
              "      dtype='object')"
            ]
          },
          "metadata": {
            "tags": []
          },
          "execution_count": 88
        }
      ]
    },
    {
      "cell_type": "code",
      "metadata": {
        "id": "yd1oiwcdeQFo"
      },
      "source": [
        "d1,d2 = researchpy.crosstab(data[\"State\"],data[\"ViolCode\"],test=\"chi-square\")"
      ],
      "execution_count": null,
      "outputs": []
    },
    {
      "cell_type": "code",
      "metadata": {
        "id": "XvblHu5NqMJz",
        "colab": {
          "base_uri": "https://localhost:8080/",
          "height": 298
        },
        "outputId": "7b93c154-8391-4683-c7e2-1655c2e85722"
      },
      "source": [
        "d2"
      ],
      "execution_count": null,
      "outputs": [
        {
          "output_type": "execute_result",
          "data": {
            "text/html": [
              "<div>\n",
              "<style scoped>\n",
              "    .dataframe tbody tr th:only-of-type {\n",
              "        vertical-align: middle;\n",
              "    }\n",
              "\n",
              "    .dataframe tbody tr th {\n",
              "        vertical-align: top;\n",
              "    }\n",
              "\n",
              "    .dataframe thead th {\n",
              "        text-align: right;\n",
              "    }\n",
              "</style>\n",
              "<table border=\"1\" class=\"dataframe\">\n",
              "  <thead>\n",
              "    <tr style=\"text-align: right;\">\n",
              "      <th></th>\n",
              "      <th>Chi-square test</th>\n",
              "      <th>results</th>\n",
              "    </tr>\n",
              "  </thead>\n",
              "  <tbody>\n",
              "    <tr>\n",
              "      <th>0</th>\n",
              "      <td>Pearson Chi-square ( 2124.0) =</td>\n",
              "      <td>23070.7469</td>\n",
              "    </tr>\n",
              "    <tr>\n",
              "      <th>1</th>\n",
              "      <td>p-value =</td>\n",
              "      <td>0.0000</td>\n",
              "    </tr>\n",
              "    <tr>\n",
              "      <th>2</th>\n",
              "      <td>Cramer's V =</td>\n",
              "      <td>0.0602</td>\n",
              "    </tr>\n",
              "  </tbody>\n",
              "</table>\n",
              "</div>"
            ],
            "text/plain": [
              "                   Chi-square test     results\n",
              "0  Pearson Chi-square ( 2124.0) =   23070.7469\n",
              "1                       p-value =       0.0000\n",
              "2                    Cramer's V =       0.0602"
            ]
          },
          "metadata": {
            "tags": []
          },
          "execution_count": 90
        }
      ]
    },
    {
      "cell_type": "markdown",
      "metadata": {
        "id": "agWm81Wzq9DG"
      },
      "source": [
        "As p-value is less than alpha level, we reject the null hypothesis and infer that the state where the the vehicle is registered and the type of violations committed have a relationship.\n",
        "\n",
        "As the Cramer's V is close to zero, there is only slight relationship between vehicle's registration state and violations committed."
      ]
    },
    {
      "cell_type": "markdown",
      "metadata": {
        "id": "xowIl7zqrsFz"
      },
      "source": [
        "#### Is there a significant drop in violations committed in April 2020 in comparison to April, 2019 due to the COVID-19 pandemic?\n",
        "\n",
        "Null hypothesis: There is no change in violations committed in April 2020 in comparison to April, 2019 \n",
        "\n",
        "Alternate Hypothesis: There is a change in violations committed in April 2020 in comparison to April, 2019 \n",
        "\n",
        "alpha level = 0.05\n"
      ]
    },
    {
      "cell_type": "code",
      "metadata": {
        "id": "j6GbPcGBxPek"
      },
      "source": [
        "#Grouping the violations performed by each state in April 2019 and April 2020 respectively\n",
        "g1 = data[data[\"ViolDate\"].dt.year == 2019].groupby(\"State\")[\"ViolDate\"].count().sort_index()  \n",
        "g2 = data[data[\"ViolDate\"].dt.year == 2020].groupby(\"State\")[\"ViolDate\"].count().sort_index()"
      ],
      "execution_count": null,
      "outputs": []
    },
    {
      "cell_type": "code",
      "metadata": {
        "id": "M8tLw65pursl"
      },
      "source": [
        "d3, d4 =researchpy.ttest(g1,g2,\"2019\",\"2020\",paired=True)"
      ],
      "execution_count": null,
      "outputs": []
    },
    {
      "cell_type": "code",
      "metadata": {
        "id": "I01ddF8d8Kag",
        "colab": {
          "base_uri": "https://localhost:8080/",
          "height": 142
        },
        "outputId": "92a3af2c-b37d-4bba-8aa7-bbc9cb671485"
      },
      "source": [
        "d3"
      ],
      "execution_count": null,
      "outputs": [
        {
          "output_type": "execute_result",
          "data": {
            "text/html": [
              "<div>\n",
              "<style scoped>\n",
              "    .dataframe tbody tr th:only-of-type {\n",
              "        vertical-align: middle;\n",
              "    }\n",
              "\n",
              "    .dataframe tbody tr th {\n",
              "        vertical-align: top;\n",
              "    }\n",
              "\n",
              "    .dataframe thead th {\n",
              "        text-align: right;\n",
              "    }\n",
              "</style>\n",
              "<table border=\"1\" class=\"dataframe\">\n",
              "  <thead>\n",
              "    <tr style=\"text-align: right;\">\n",
              "      <th></th>\n",
              "      <th>Variable</th>\n",
              "      <th>N</th>\n",
              "      <th>Mean</th>\n",
              "      <th>SD</th>\n",
              "      <th>SE</th>\n",
              "      <th>95% Conf.</th>\n",
              "      <th>Interval</th>\n",
              "    </tr>\n",
              "  </thead>\n",
              "  <tbody>\n",
              "    <tr>\n",
              "      <th>0</th>\n",
              "      <td>2019</td>\n",
              "      <td>54.0</td>\n",
              "      <td>1787.444444</td>\n",
              "      <td>11681.524141</td>\n",
              "      <td>1589.654087</td>\n",
              "      <td>-1400.997871</td>\n",
              "      <td>4975.886760</td>\n",
              "    </tr>\n",
              "    <tr>\n",
              "      <th>1</th>\n",
              "      <td>2020</td>\n",
              "      <td>54.0</td>\n",
              "      <td>1491.037037</td>\n",
              "      <td>9946.433014</td>\n",
              "      <td>1353.538091</td>\n",
              "      <td>-1223.816567</td>\n",
              "      <td>4205.890641</td>\n",
              "    </tr>\n",
              "    <tr>\n",
              "      <th>2</th>\n",
              "      <td>diff</td>\n",
              "      <td>54.0</td>\n",
              "      <td>296.407407</td>\n",
              "      <td>1743.092183</td>\n",
              "      <td>237.204801</td>\n",
              "      <td>-179.365172</td>\n",
              "      <td>772.179987</td>\n",
              "    </tr>\n",
              "  </tbody>\n",
              "</table>\n",
              "</div>"
            ],
            "text/plain": [
              "  Variable     N         Mean  ...           SE    95% Conf.     Interval\n",
              "0     2019  54.0  1787.444444  ...  1589.654087 -1400.997871  4975.886760\n",
              "1     2020  54.0  1491.037037  ...  1353.538091 -1223.816567  4205.890641\n",
              "2     diff  54.0   296.407407  ...   237.204801  -179.365172   772.179987\n",
              "\n",
              "[3 rows x 7 columns]"
            ]
          },
          "metadata": {
            "tags": []
          },
          "execution_count": 93
        }
      ]
    },
    {
      "cell_type": "code",
      "metadata": {
        "id": "l7_vRcxvx6Hr",
        "colab": {
          "base_uri": "https://localhost:8080/",
          "height": 173
        },
        "outputId": "2c4c6200-2e0e-4cc5-e3a2-7f3d24055147"
      },
      "source": [
        "d4[:4]"
      ],
      "execution_count": null,
      "outputs": [
        {
          "output_type": "execute_result",
          "data": {
            "text/html": [
              "<div>\n",
              "<style scoped>\n",
              "    .dataframe tbody tr th:only-of-type {\n",
              "        vertical-align: middle;\n",
              "    }\n",
              "\n",
              "    .dataframe tbody tr th {\n",
              "        vertical-align: top;\n",
              "    }\n",
              "\n",
              "    .dataframe thead th {\n",
              "        text-align: right;\n",
              "    }\n",
              "</style>\n",
              "<table border=\"1\" class=\"dataframe\">\n",
              "  <thead>\n",
              "    <tr style=\"text-align: right;\">\n",
              "      <th></th>\n",
              "      <th>Paired samples t-test</th>\n",
              "      <th>results</th>\n",
              "    </tr>\n",
              "  </thead>\n",
              "  <tbody>\n",
              "    <tr>\n",
              "      <th>0</th>\n",
              "      <td>Difference (2019 - 2020) =</td>\n",
              "      <td>296.4074</td>\n",
              "    </tr>\n",
              "    <tr>\n",
              "      <th>1</th>\n",
              "      <td>Degrees of freedom =</td>\n",
              "      <td>53.0000</td>\n",
              "    </tr>\n",
              "    <tr>\n",
              "      <th>2</th>\n",
              "      <td>t =</td>\n",
              "      <td>1.2496</td>\n",
              "    </tr>\n",
              "    <tr>\n",
              "      <th>3</th>\n",
              "      <td>Two side test p value =</td>\n",
              "      <td>0.2169</td>\n",
              "    </tr>\n",
              "  </tbody>\n",
              "</table>\n",
              "</div>"
            ],
            "text/plain": [
              "         Paired samples t-test   results\n",
              "0  Difference (2019 - 2020) =   296.4074\n",
              "1        Degrees of freedom =    53.0000\n",
              "2                         t =     1.2496\n",
              "3     Two side test p value =     0.2169"
            ]
          },
          "metadata": {
            "tags": []
          },
          "execution_count": 94
        }
      ]
    },
    {
      "cell_type": "markdown",
      "metadata": {
        "id": "Mx4OPbI3yOIO"
      },
      "source": [
        "As p value is greater than alpha (0.05), we fail to reject the null hypothesis.\n",
        "\n",
        "Hence, one can conclude that there is no significant difference between the violations committed in April 2019 to that of April, 2020 per state."
      ]
    },
    {
      "cell_type": "markdown",
      "metadata": {
        "id": "MaSwFzoZ6rUj"
      },
      "source": [
        "## Summary of the Project:\n",
        "\n",
        "\n",
        "*   On analyzing the maximum number of violations that are committed by each vehicle, notice that most vehicles performed 1 violation however, there are few vehicles which performed as high as 31 violations in a month.\n",
        "*   On analysing the vehicle registration state, noticed that most violations that happened in Baltimore city are done by vehicles registered under the home state ie., Maryland (90%), followed by the nearby states Virginia (3%) and Pensylvania (1.7%). Also, noticed that there is a slight relationship between vehicle's state and the type of violation committed.\n",
        "\n",
        "*   Noticed that majority violations are performed by the vehicles of Make - Honda, Toyota and Nissan.\n",
        "\n",
        "*   More than 50% of violations are of the type: Fixed Speed Camera (56%), followed by Red light violation (12%) and Right on Red (12%).\n",
        "\n",
        "\n",
        "*   Noticed that most of the violations happen during weekdays and during 8 AM - 7 PM hours. In april, 2019 majority of violations happened between 8 AM - 2 PM, however in April 2020, majority violations happened during 3 PM - 7 PM.\n",
        "\n",
        "*   Noticed there are few incidents in which  red light violation, fixed camera violation etc.  where the notice was issued nearly 19 months after the violation incident.\n",
        "\n",
        "\n",
        "*   Finally, due to the lock down during COVID-19 pandemic in the month of April 2020, noticed a overall drop of 16.59% in the violations reported in comparison to April, 2019. However, there is no statistical significance at alpha = 0.05 per state.\n",
        "\n",
        "\n",
        "\n",
        "\n",
        "\n",
        "\n",
        "\n",
        "\n",
        "\n",
        "\n",
        "\n",
        "\n",
        "\n",
        "\n",
        "\n",
        "\n"
      ]
    }
  ]
}